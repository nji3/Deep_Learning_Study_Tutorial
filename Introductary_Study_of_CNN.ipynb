{
  "nbformat": 4,
  "nbformat_minor": 0,
  "metadata": {
    "colab": {
      "name": "Introductary_Study_of_CNN.ipynb",
      "version": "0.3.2",
      "provenance": [],
      "collapsed_sections": []
    },
    "kernelspec": {
      "name": "python3",
      "display_name": "Python 3"
    }
  },
  "cells": [
    {
      "metadata": {
        "id": "Thv5T4Ie651P",
        "colab_type": "code",
        "outputId": "787812a7-f00a-40ef-b9c1-72dd981d093d",
        "colab": {
          "base_uri": "https://localhost:8080/",
          "height": 51
        }
      },
      "cell_type": "code",
      "source": [
        "# TensorFlow and tf.keras\n",
        "import tensorflow as tf\n",
        "from tensorflow import keras\n",
        "from keras.utils import to_categorical\n",
        "from keras import layers\n",
        "from keras import models\n",
        "\n",
        "# Helper libraries\n",
        "import numpy as np\n",
        "import matplotlib.pyplot as plt\n",
        "\n",
        "print(tf.__version__)"
      ],
      "execution_count": 0,
      "outputs": [
        {
          "output_type": "stream",
          "text": [
            "1.12.0\n"
          ],
          "name": "stdout"
        },
        {
          "output_type": "stream",
          "text": [
            "Using TensorFlow backend.\n"
          ],
          "name": "stderr"
        }
      ]
    },
    {
      "metadata": {
        "id": "4mr437xhxJik",
        "colab_type": "text"
      },
      "cell_type": "markdown",
      "source": [
        "For this week's study, I will start from the simple construction of CNN in tensorflow. It would be necessary to use the mature APIs from Keras. The datasets using here are classic examples using to test the neural networks, which are the Fashion MNIST dataset and the Hand-writing MNIST dataset. I would reload these two datasets first."
      ]
    },
    {
      "metadata": {
        "id": "Pa3TqFl6yHzv",
        "colab_type": "code",
        "outputId": "85b2db75-b29a-4344-f1d0-0ce10ff19378",
        "colab": {
          "base_uri": "https://localhost:8080/",
          "height": 221
        }
      },
      "cell_type": "code",
      "source": [
        "fashion_mnist = keras.datasets.fashion_mnist # Initialize the fashion_mnist data object\n",
        "(train_img, train_label), (test_img, test_label) = fashion_mnist.load_data()\n",
        "\n",
        "mnist = keras.datasets.mnist # Initialize the mnist hand-writing data\n",
        "(x_train, y_train), (x_test, y_test) = mnist.load_data()\n",
        "\n",
        "print(x_train.size)\n",
        "print(y_train.size)"
      ],
      "execution_count": 0,
      "outputs": [
        {
          "output_type": "stream",
          "text": [
            "Downloading data from https://storage.googleapis.com/tensorflow/tf-keras-datasets/train-labels-idx1-ubyte.gz\n",
            "32768/29515 [=================================] - 0s 0us/step\n",
            "Downloading data from https://storage.googleapis.com/tensorflow/tf-keras-datasets/train-images-idx3-ubyte.gz\n",
            "26427392/26421880 [==============================] - 0s 0us/step\n",
            "Downloading data from https://storage.googleapis.com/tensorflow/tf-keras-datasets/t10k-labels-idx1-ubyte.gz\n",
            "8192/5148 [===============================================] - 0s 0us/step\n",
            "Downloading data from https://storage.googleapis.com/tensorflow/tf-keras-datasets/t10k-images-idx3-ubyte.gz\n",
            "4423680/4422102 [==============================] - 0s 0us/step\n",
            "Downloading data from https://storage.googleapis.com/tensorflow/tf-keras-datasets/mnist.npz\n",
            "11493376/11490434 [==============================] - 0s 0us/step\n",
            "47040000\n",
            "60000\n"
          ],
          "name": "stdout"
        }
      ]
    },
    {
      "metadata": {
        "id": "Y_EfchZs0NYs",
        "colab_type": "text"
      },
      "cell_type": "markdown",
      "source": [
        "**Simple Example of CNN structure implementation**\n",
        "\n",
        "We could use the MNIST data for a simple example of a CNN structure from 1 layer to 3 layers by Keras. Before the training, one important thing is to do the data preparation. We need to transfer the data into the form for training."
      ]
    },
    {
      "metadata": {
        "id": "1E4OAjSH0NnM",
        "colab_type": "code",
        "outputId": "48d29437-6895-4d00-8e24-1f1f1e4ee311",
        "colab": {
          "base_uri": "https://localhost:8080/",
          "height": 214
        }
      },
      "cell_type": "code",
      "source": [
        "# Data preparation of MNIST Handwriting images\n",
        "x_train = x_train.reshape((60000,28,28,1)) # 60000 training images. Each image has 28 by 28 pixels with 1 colour channel\n",
        "x_train = x_train.astype('float32')/255 # Normalize each pixel's value\n",
        "x_test = x_test.reshape((10000,28,28,1)) # 10000 testing images.\n",
        "x_test = x_test.astype('float32')/255\n",
        "\n",
        "y_train = to_categorical(y_train) # Converts the label class vector (integers) to binary class matrix.\n",
        "y_test = to_categorical(y_test)\n",
        "\n",
        "\n",
        "fig = plt.figure(figsize = (10,50))\n",
        "ax = fig.add_subplot(1,5,1)\n",
        "plt.imshow(x_train[0].reshape((28,28)))\n",
        "ax = fig.add_subplot(1,5,2)\n",
        "plt.imshow(x_train[1].reshape((28,28)))\n",
        "ax = fig.add_subplot(1,5,3)\n",
        "plt.imshow(x_train[2].reshape((28,28)))\n",
        "ax = fig.add_subplot(1,5,4)\n",
        "plt.imshow(x_train[3].reshape((28,28)))\n",
        "ax = fig.add_subplot(1,5,5)\n",
        "plt.imshow(x_train[4].reshape((28,28)))\n",
        "plt.show()\n",
        "print(y_train[0:4])"
      ],
      "execution_count": 0,
      "outputs": [
        {
          "output_type": "display_data",
          "data": {
            "image/png": "[encoded data removed]",
            "text/plain": [
              "<Figure size 720x3600 with 5 Axes>"
            ]
          },
          "metadata": {
            "tags": []
          }
        },
        {
          "output_type": "stream",
          "text": [
            "[[0. 0. 0. 0. 0. 1. 0. 0. 0. 0.]\n",
            " [1. 0. 0. 0. 0. 0. 0. 0. 0. 0.]\n",
            " [0. 0. 0. 0. 1. 0. 0. 0. 0. 0.]\n",
            " [0. 1. 0. 0. 0. 0. 0. 0. 0. 0.]]\n"
          ],
          "name": "stdout"
        }
      ]
    },
    {
      "metadata": {
        "id": "Hadu6f8kXE10",
        "colab_type": "text"
      },
      "cell_type": "markdown",
      "source": [
        "We would build an example of one simple layer Convolutional Neural Network. In keras, we can use the 'model' and 'layers' packs to do the construction. Usually one layer of Convolutional Neural Network would have a layer of Convolution operation (Distinguish the convolution operation for 1-dimensional data or 2-dimensional data), a layer of activation (usually we can use a RELU activation layer), a layer of Pooling (usaully we could the MaxPooling).\n",
        "\n",
        "After the structure of CNN, we want to accomplish our goal. Here the goal is to do the classification, then after the one layer CNN, we would want to flatten the output layer (out put of the CNN structure) first and use the fully-connected activation layer (RELU). Then we will use a final fully-connected sigmoid/softmax layer to have our results for classification. We could code it step by step. "
      ]
    },
    {
      "metadata": {
        "id": "QBuahPuPSEfv",
        "colab_type": "code",
        "outputId": "30f81011-9f92-43cb-e121-3d75c39e4952",
        "colab": {
          "base_uri": "https://localhost:8080/",
          "height": 595
        }
      },
      "cell_type": "code",
      "source": [
        "# One simple layer of CNN\n",
        "CNN_one_layer = models.Sequential() # Define sequential model so that we could keep adding different layers\n",
        "CNN_one_layer.add(layers.Conv2D(filters=16,kernel_size=(4,4),padding='valid',activation='relu',input_shape=(28,28,1)))\n",
        "# Here the attribute 'padding' is actually asking the boundary would be counted in or not. 'valid' means not counted in.\n",
        "CNN_one_layer.add(layers.MaxPooling2D((4,4))) # Add the Pooling layer\n",
        "\n",
        "print(CNN_one_layer.summary()) # Track the Output dimension and the number of the parameters\n",
        "\n",
        "CNN_one_layer.add(layers.Flatten())\n",
        "CNN_one_layer.add(layers.Dense(16,activation='relu'))\n",
        "CNN_one_layer.add(layers.Dense(10,activation='softmax')) # Remember the final output's size is 10 because we have only 10 classes\n",
        "\n",
        "print(CNN_one_layer.summary())\n",
        "\n",
        "CNN_one_layer.compile(optimizer='rmsprop', loss='categorical_crossentropy',metrics=['accuracy']) # Model compile\n",
        "CNN_one_layer.fit(x_train,y_train,epochs=1, batch_size=16) # Start the training Process\n",
        "_,test_accuracy = CNN_one_layer.evaluate(x_test,y_test) # Calculate the test accuracy\n",
        "print(test_accuracy)"
      ],
      "execution_count": 0,
      "outputs": [
        {
          "output_type": "stream",
          "text": [
            "_________________________________________________________________\n",
            "Layer (type)                 Output Shape              Param #   \n",
            "=================================================================\n",
            "conv2d_1 (Conv2D)            (None, 25, 25, 16)        272       \n",
            "_________________________________________________________________\n",
            "max_pooling2d_1 (MaxPooling2 (None, 6, 6, 16)          0         \n",
            "=================================================================\n",
            "Total params: 272\n",
            "Trainable params: 272\n",
            "Non-trainable params: 0\n",
            "_________________________________________________________________\n",
            "None\n",
            "_________________________________________________________________\n",
            "Layer (type)                 Output Shape              Param #   \n",
            "=================================================================\n",
            "conv2d_1 (Conv2D)            (None, 25, 25, 16)        272       \n",
            "_________________________________________________________________\n",
            "max_pooling2d_1 (MaxPooling2 (None, 6, 6, 16)          0         \n",
            "_________________________________________________________________\n",
            "flatten_1 (Flatten)          (None, 576)               0         \n",
            "_________________________________________________________________\n",
            "dense_1 (Dense)              (None, 16)                9232      \n",
            "_________________________________________________________________\n",
            "dense_2 (Dense)              (None, 10)                170       \n",
            "=================================================================\n",
            "Total params: 9,674\n",
            "Trainable params: 9,674\n",
            "Non-trainable params: 0\n",
            "_________________________________________________________________\n",
            "None\n",
            "Epoch 1/1\n",
            "60000/60000 [==============================] - 32s 528us/step - loss: 0.2719 - acc: 0.9196\n",
            "10000/10000 [==============================] - 2s 240us/step\n"
          ],
          "name": "stdout"
        },
        {
          "output_type": "execute_result",
          "data": {
            "text/plain": [
              "0.9683"
            ]
          },
          "metadata": {
            "tags": []
          },
          "execution_count": 4
        }
      ]
    },
    {
      "metadata": {
        "id": "7kVGP4O6eOA6",
        "colab_type": "text"
      },
      "cell_type": "markdown",
      "source": [
        "After we have the basic idea of the construction, we could just build more layers. To make the training process more complete, it would be better to include the K-Fold cross validation (Though MNIST data just a very simple dataset). We can import KFOLD from sk-learn and combine it into the training process by a simple for loop."
      ]
    },
    {
      "metadata": {
        "id": "hJP2UI95eW3R",
        "colab_type": "code",
        "outputId": "6f231c8f-7d29-47a6-cd59-e556f22d2823",
        "colab": {
          "base_uri": "https://localhost:8080/",
          "height": 629
        }
      },
      "cell_type": "code",
      "source": [
        "model_mnist = models.Sequential()\n",
        "model_mnist.add(layers.Conv2D(16,(4,4),activation='relu',input_shape=(28,28,1)))\n",
        "model_mnist.add(layers.MaxPooling2D(2,2))\n",
        "model_mnist.add(layers.Conv2D(32,(3,3),activation='relu'))\n",
        "model_mnist.add(layers.MaxPooling2D(2,2))\n",
        "model_mnist.add(layers.Conv2D(32,(2,2),activation='relu'))\n",
        "\n",
        "model_mnist.add(layers.Flatten())\n",
        "model_mnist.add(layers.Dense(32,activation='relu'))\n",
        "model_mnist.add(layers.Dense(10,activation='softmax'))\n",
        "\n",
        "print(model_mnist.summary())\n",
        "\n",
        "model_mnist.compile(optimizer='rmsprop', loss='categorical_crossentropy',metrics=['accuracy'])\n",
        "model_mnist.fit(x_train,y_train,epochs=5, batch_size=16)\n",
        "_,test_accuracy = model_mnist.evaluate(x_test,y_test)\n",
        "print(test_accuracy)"
      ],
      "execution_count": 0,
      "outputs": [
        {
          "output_type": "stream",
          "text": [
            "_________________________________________________________________\n",
            "Layer (type)                 Output Shape              Param #   \n",
            "=================================================================\n",
            "conv2d_85 (Conv2D)           (None, 25, 25, 16)        272       \n",
            "_________________________________________________________________\n",
            "max_pooling2d_58 (MaxPooling (None, 12, 12, 16)        0         \n",
            "_________________________________________________________________\n",
            "conv2d_86 (Conv2D)           (None, 10, 10, 32)        4640      \n",
            "_________________________________________________________________\n",
            "max_pooling2d_59 (MaxPooling (None, 5, 5, 32)          0         \n",
            "_________________________________________________________________\n",
            "conv2d_87 (Conv2D)           (None, 4, 4, 32)          4128      \n",
            "_________________________________________________________________\n",
            "flatten_25 (Flatten)         (None, 512)               0         \n",
            "_________________________________________________________________\n",
            "dense_49 (Dense)             (None, 32)                16416     \n",
            "_________________________________________________________________\n",
            "dense_50 (Dense)             (None, 10)                330       \n",
            "=================================================================\n",
            "Total params: 25,786\n",
            "Trainable params: 25,786\n",
            "Non-trainable params: 0\n",
            "_________________________________________________________________\n",
            "None\n",
            "Epoch 1/5\n",
            "60000/60000 [==============================] - 47s 789us/step - loss: 0.1561 - acc: 0.9518\n",
            "Epoch 2/5\n",
            "60000/60000 [==============================] - 47s 782us/step - loss: 0.0540 - acc: 0.9838\n",
            "Epoch 3/5\n",
            "60000/60000 [==============================] - 46s 763us/step - loss: 0.0436 - acc: 0.9874\n",
            "Epoch 4/5\n",
            "60000/60000 [==============================] - 46s 771us/step - loss: 0.0385 - acc: 0.9894\n",
            "Epoch 5/5\n",
            "60000/60000 [==============================] - 47s 776us/step - loss: 0.0345 - acc: 0.9906\n",
            "10000/10000 [==============================] - 3s 311us/step\n",
            "0.9898\n"
          ],
          "name": "stdout"
        }
      ]
    },
    {
      "metadata": {
        "id": "hdNIxibHpe7Z",
        "colab_type": "text"
      },
      "cell_type": "markdown",
      "source": [
        "The basic neural networks just have a very simple idea that you could think you build a layer of logistic regression among a layer of logistic regression. A densily connected network would be much easir to construct and train. However, to sequential data, especially the 2-D sequential data (images), CNN would normally have a better result. The convolution operations help a lot. The fully connected networks would try to learn global patterns among the whole input feature space. But with the convolution operations, local patterns will be discovered and exaggrated. For instance, detect the patterns on some edges might give a more efficient classification result.\n",
        "\n",
        "We would want to do a little visualization of our CNN training process to have a better idea about the convolution operations."
      ]
    },
    {
      "metadata": {
        "id": "lN_J9z-trM53",
        "colab_type": "code",
        "colab": {}
      },
      "cell_type": "code",
      "source": [
        "\n"
      ],
      "execution_count": 0,
      "outputs": []
    },
    {
      "metadata": {
        "id": "8SIQY9pwn4Oz",
        "colab_type": "text"
      },
      "cell_type": "markdown",
      "source": [
        ""
      ]
    }
  ]
}