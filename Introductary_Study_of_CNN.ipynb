{
  "nbformat": 4,
  "nbformat_minor": 0,
  "metadata": {
    "colab": {
      "name": "Introductary_Study_of_CNN.ipynb",
      "version": "0.3.2",
      "provenance": [],
      "collapsed_sections": []
    },
    "kernelspec": {
      "name": "python3",
      "display_name": "Python 3"
    }
  },
  "cells": [
    {
      "metadata": {
        "id": "Thv5T4Ie651P",
        "colab_type": "code",
        "outputId": "91641065-b57c-4177-db07-e57f0ffcadaa",
        "colab": {
          "base_uri": "https://localhost:8080/",
          "height": 34
        }
      },
      "cell_type": "code",
      "source": [
        "# TensorFlow and tf.keras\n",
        "import tensorflow as tf\n",
        "from tensorflow import keras\n",
        "from keras.utils import to_categorical\n",
        "from keras import layers\n",
        "from keras import models\n",
        "\n",
        "# Helper libraries\n",
        "import numpy as np\n",
        "import matplotlib.pyplot as plt\n",
        "\n",
        "print(tf.__version__)"
      ],
      "execution_count": 16,
      "outputs": [
        {
          "output_type": "stream",
          "text": [
            "1.12.0\n"
          ],
          "name": "stdout"
        }
      ]
    },
    {
      "metadata": {
        "id": "4mr437xhxJik",
        "colab_type": "text"
      },
      "cell_type": "markdown",
      "source": [
        "For this week's study, I will start from the simple construction of CNN in tensorflow. It would be necessary to use the mature APIs from Keras. The datasets using here are classic examples using to test the neural networks, which are the Fashion MNIST dataset and the Hand-writing MNIST dataset. I would reload these two datasets first."
      ]
    },
    {
      "metadata": {
        "id": "Pa3TqFl6yHzv",
        "colab_type": "code",
        "outputId": "668c84fd-186e-447d-876b-af7f9bf934c9",
        "colab": {
          "base_uri": "https://localhost:8080/",
          "height": 51
        }
      },
      "cell_type": "code",
      "source": [
        "fashion_mnist = keras.datasets.fashion_mnist # Initialize the fashion_mnist data object\n",
        "(train_img, train_label), (test_img, test_label) = fashion_mnist.load_data()\n",
        "\n",
        "mnist = keras.datasets.mnist # Initialize the mnist hand-writing data\n",
        "(x_train, y_train), (x_test, y_test) = mnist.load_data()\n",
        "\n",
        "print(x_train.size)\n",
        "print(y_train.size)"
      ],
      "execution_count": 17,
      "outputs": [
        {
          "output_type": "stream",
          "text": [
            "47040000\n",
            "60000\n"
          ],
          "name": "stdout"
        }
      ]
    },
    {
      "metadata": {
        "id": "Y_EfchZs0NYs",
        "colab_type": "text"
      },
      "cell_type": "markdown",
      "source": [
        "**Simple Example of CNN structure implementation**\n",
        "\n",
        "We could use the MNIST data for a simple example of a CNN structure from 1 layer to 3 layers by Keras. Before the training, one important thing is to do the data preparation. We need to transfer the data into the form for training."
      ]
    },
    {
      "metadata": {
        "id": "1E4OAjSH0NnM",
        "colab_type": "code",
        "outputId": "3e0fd0ba-61a8-4ad0-ea92-12ca85725ce4",
        "colab": {
          "base_uri": "https://localhost:8080/",
          "height": 214
        }
      },
      "cell_type": "code",
      "source": [
        "# Data preparation of MNIST Handwriting images\n",
        "x_train = x_train.reshape((60000,28,28,1)) # 60000 training images. Each image has 28 by 28 pixels with 1 colour channel\n",
        "x_train = x_train.astype('float32')/255 # Normalize each pixel's value\n",
        "x_test = x_test.reshape((10000,28,28,1)) # 10000 testing images.\n",
        "x_test = x_test.astype('float32')/255\n",
        "\n",
        "y_train = to_categorical(y_train) # Converts the label class vector (integers) to binary class matrix.\n",
        "y_test = to_categorical(y_test)\n",
        "\n",
        "fig = plt.figure(figsize = (10,50))\n",
        "ax = fig.add_subplot(1,5,1)\n",
        "plt.imshow(x_train[0].reshape((28,28)))\n",
        "ax = fig.add_subplot(1,5,2)\n",
        "plt.imshow(x_train[1].reshape((28,28)))\n",
        "ax = fig.add_subplot(1,5,3)\n",
        "plt.imshow(x_train[2].reshape((28,28)))\n",
        "ax = fig.add_subplot(1,5,4)\n",
        "plt.imshow(x_train[3].reshape((28,28)))\n",
        "ax = fig.add_subplot(1,5,5)\n",
        "plt.imshow(x_train[4].reshape((28,28)))\n",
        "plt.show()\n",
        "print(y_train[0:4])"
      ],
      "execution_count": 18,
      "outputs": [
        {
          "output_type": "display_data",
          "data": {
            "image/png": "[encoded data removed]",
            "text/plain": [
              "<Figure size 720x3600 with 5 Axes>"
            ]
          },
          "metadata": {
            "tags": []
          }
        },
        {
          "output_type": "stream",
          "text": [
            "[[0. 0. 0. 0. 0. 1. 0. 0. 0. 0.]\n",
            " [1. 0. 0. 0. 0. 0. 0. 0. 0. 0.]\n",
            " [0. 0. 0. 0. 1. 0. 0. 0. 0. 0.]\n",
            " [0. 1. 0. 0. 0. 0. 0. 0. 0. 0.]]\n"
          ],
          "name": "stdout"
        }
      ]
    },
    {
      "metadata": {
        "id": "Hadu6f8kXE10",
        "colab_type": "text"
      },
      "cell_type": "markdown",
      "source": [
        "We would build an example of one simple layer Convolutional Neural Network. In keras, we can use the 'model' and 'layers' packs to do the construction. Usually one layer of Convolutional Neural Network would have a layer of Convolution operation (Distinguish the convolution operation for 1-dimensional data or 2-dimensional data), a layer of activation (usually we can use a RELU activation layer), a layer of Pooling (usaully we could the MaxPooling).\n",
        "\n",
        "After the structure of CNN, we want to accomplish our goal. Here the goal is to do the classification, then after the one layer CNN, we would want to flatten the output layer (out put of the CNN structure) first and use the fully-connected activation layer (RELU). Then we will use a final fully-connected sigmoid/softmax layer to have our results for classification. We could code it step by step. "
      ]
    },
    {
      "metadata": {
        "id": "QBuahPuPSEfv",
        "colab_type": "code",
        "outputId": "bff92717-9f8c-474b-ff63-061d499e1a28",
        "colab": {
          "base_uri": "https://localhost:8080/",
          "height": 595
        }
      },
      "cell_type": "code",
      "source": [
        "# One simple layer of CNN\n",
        "CNN_one_layer = models.Sequential() # Define sequential model so that we could keep adding different layers\n",
        "CNN_one_layer.add(layers.Conv2D(filters=16,kernel_size=(4,4),padding='valid',activation='relu',input_shape=(28,28,1)))\n",
        "# Here the attribute 'padding' is actually asking the boundary would be counted in or not. 'valid' means not counted in.\n",
        "CNN_one_layer.add(layers.MaxPooling2D((4,4))) # Add the Pooling layer\n",
        "\n",
        "print(CNN_one_layer.summary()) # Track the Output dimension and the number of the parameters\n",
        "\n",
        "CNN_one_layer.add(layers.Flatten())\n",
        "CNN_one_layer.add(layers.Dense(16,activation='relu'))\n",
        "CNN_one_layer.add(layers.Dense(10,activation='softmax')) # Remember the final output's size is 10 because we have only 10 classes\n",
        "\n",
        "print(CNN_one_layer.summary())\n",
        "\n",
        "CNN_one_layer.compile(optimizer='rmsprop', loss='categorical_crossentropy',metrics=['accuracy']) # Model compile\n",
        "CNN_one_layer.fit(x_train,y_train,epochs=1, batch_size=16) # Start the training Process\n",
        "_,test_accuracy = CNN_one_layer.evaluate(x_test,y_test) # Calculate the test accuracy\n",
        "print('Test accuracy:', test_accuracy)"
      ],
      "execution_count": 4,
      "outputs": [
        {
          "output_type": "stream",
          "text": [
            "_________________________________________________________________\n",
            "Layer (type)                 Output Shape              Param #   \n",
            "=================================================================\n",
            "conv2d_1 (Conv2D)            (None, 25, 25, 16)        272       \n",
            "_________________________________________________________________\n",
            "max_pooling2d_1 (MaxPooling2 (None, 6, 6, 16)          0         \n",
            "=================================================================\n",
            "Total params: 272\n",
            "Trainable params: 272\n",
            "Non-trainable params: 0\n",
            "_________________________________________________________________\n",
            "None\n",
            "_________________________________________________________________\n",
            "Layer (type)                 Output Shape              Param #   \n",
            "=================================================================\n",
            "conv2d_1 (Conv2D)            (None, 25, 25, 16)        272       \n",
            "_________________________________________________________________\n",
            "max_pooling2d_1 (MaxPooling2 (None, 6, 6, 16)          0         \n",
            "_________________________________________________________________\n",
            "flatten_1 (Flatten)          (None, 576)               0         \n",
            "_________________________________________________________________\n",
            "dense_1 (Dense)              (None, 16)                9232      \n",
            "_________________________________________________________________\n",
            "dense_2 (Dense)              (None, 10)                170       \n",
            "=================================================================\n",
            "Total params: 9,674\n",
            "Trainable params: 9,674\n",
            "Non-trainable params: 0\n",
            "_________________________________________________________________\n",
            "None\n",
            "Epoch 1/1\n",
            "60000/60000 [==============================] - 30s 504us/step - loss: 0.2785 - acc: 0.9166\n",
            "10000/10000 [==============================] - 2s 228us/step\n",
            "0.9668\n"
          ],
          "name": "stdout"
        }
      ]
    },
    {
      "metadata": {
        "id": "7kVGP4O6eOA6",
        "colab_type": "text"
      },
      "cell_type": "markdown",
      "source": [
        "After we have the basic idea of the construction, we could just build more layers. To make the training process more complete, it would be better to include the K-Fold cross validation (Though MNIST data just a very simple dataset). We can import KFOLD from sk-learn and combine it into the training process by a simple for loop."
      ]
    },
    {
      "metadata": {
        "id": "hJP2UI95eW3R",
        "colab_type": "code",
        "outputId": "13dfc117-b742-4299-d721-820e21ddd60e",
        "colab": {
          "base_uri": "https://localhost:8080/",
          "height": 629
        }
      },
      "cell_type": "code",
      "source": [
        "model_mnist = models.Sequential()\n",
        "model_mnist.add(layers.Conv2D(16,(4,4),activation='relu',input_shape=(28,28,1)))\n",
        "model_mnist.add(layers.MaxPooling2D(2,2))\n",
        "model_mnist.add(layers.Conv2D(32,(3,3),activation='relu'))\n",
        "model_mnist.add(layers.MaxPooling2D(2,2))\n",
        "model_mnist.add(layers.Conv2D(32,(2,2),activation='relu'))\n",
        "\n",
        "model_mnist.add(layers.Flatten())\n",
        "model_mnist.add(layers.Dense(32,activation='relu'))\n",
        "model_mnist.add(layers.Dense(10,activation='softmax'))\n",
        "\n",
        "print(model_mnist.summary())\n",
        "\n",
        "model_mnist.compile(optimizer='rmsprop', loss='categorical_crossentropy',metrics=['accuracy'])\n",
        "model_mnist.fit(x_train,y_train,epochs=5, batch_size=16)\n",
        "_,test_accuracy = model_mnist.evaluate(x_test,y_test)\n",
        "print('Test accuracy:', test_accuracy)"
      ],
      "execution_count": 6,
      "outputs": [
        {
          "output_type": "stream",
          "text": [
            "_________________________________________________________________\n",
            "Layer (type)                 Output Shape              Param #   \n",
            "=================================================================\n",
            "conv2d_5 (Conv2D)            (None, 25, 25, 16)        272       \n",
            "_________________________________________________________________\n",
            "max_pooling2d_4 (MaxPooling2 (None, 12, 12, 16)        0         \n",
            "_________________________________________________________________\n",
            "conv2d_6 (Conv2D)            (None, 10, 10, 32)        4640      \n",
            "_________________________________________________________________\n",
            "max_pooling2d_5 (MaxPooling2 (None, 5, 5, 32)          0         \n",
            "_________________________________________________________________\n",
            "conv2d_7 (Conv2D)            (None, 4, 4, 32)          4128      \n",
            "_________________________________________________________________\n",
            "flatten_3 (Flatten)          (None, 512)               0         \n",
            "_________________________________________________________________\n",
            "dense_5 (Dense)              (None, 32)                16416     \n",
            "_________________________________________________________________\n",
            "dense_6 (Dense)              (None, 10)                330       \n",
            "=================================================================\n",
            "Total params: 25,786\n",
            "Trainable params: 25,786\n",
            "Non-trainable params: 0\n",
            "_________________________________________________________________\n",
            "None\n",
            "Epoch 1/5\n",
            "60000/60000 [==============================] - 45s 757us/step - loss: 0.1730 - acc: 0.9477\n",
            "Epoch 2/5\n",
            "60000/60000 [==============================] - 45s 755us/step - loss: 0.0654 - acc: 0.9812\n",
            "Epoch 3/5\n",
            "60000/60000 [==============================] - 45s 754us/step - loss: 0.0536 - acc: 0.9853\n",
            "Epoch 4/5\n",
            "60000/60000 [==============================] - 46s 759us/step - loss: 0.0492 - acc: 0.9877\n",
            "Epoch 5/5\n",
            "60000/60000 [==============================] - 45s 748us/step - loss: 0.0512 - acc: 0.9875\n",
            "10000/10000 [==============================] - 3s 284us/step\n",
            "0.9851\n"
          ],
          "name": "stdout"
        }
      ]
    },
    {
      "metadata": {
        "id": "hdNIxibHpe7Z",
        "colab_type": "text"
      },
      "cell_type": "markdown",
      "source": [
        "The basic neural networks just have a very simple idea that you could think you build a layer of logistic regression among a layer of logistic regression. A densily connected network would be much easir to construct and train. However, to sequential data, especially the 2-D sequential data (images), CNN would normally have a better result. The convolution operations help a lot. The fully connected networks would try to learn global patterns among the whole input feature space. But with the convolution operations, local patterns will be discovered and exaggrated. For instance, detect the patterns on some edges might give a more efficient classification result."
      ]
    },
    {
      "metadata": {
        "id": "7ouECNq-tkRT",
        "colab_type": "text"
      },
      "cell_type": "markdown",
      "source": [
        "We could use the Fully Connected Structure by Tensorflow"
      ]
    },
    {
      "metadata": {
        "id": "Gj84Tkqxtiff",
        "colab_type": "code",
        "colab": {
          "base_uri": "https://localhost:8080/",
          "height": 221
        },
        "outputId": "5e3d1f2a-9341-4f58-8b11-4d8aa0769969"
      },
      "cell_type": "code",
      "source": [
        "# The code basically follow the tutorial from Tensorflow\n",
        "train_img = train_img / 255.0\n",
        "test_img = test_img / 255.0\n",
        "\n",
        "model_fashion_dense = keras.Sequential([\n",
        "    keras.layers.Flatten(input_shape=(28, 28)),\n",
        "    keras.layers.Dense(128, activation=tf.nn.relu),\n",
        "    keras.layers.Dense(10, activation=tf.nn.softmax)\n",
        "])\n",
        "\n",
        "model_fashion_dense.compile(optimizer='adam',\n",
        "              loss='sparse_categorical_crossentropy',\n",
        "              metrics=['accuracy'])\n",
        "\n",
        "model_fashion_dense.fit(train_img, train_label, epochs=5)\n",
        "_, test_acc = model_fashion_dense.evaluate(test_img, test_label)\n",
        "print('Test accuracy:', test_acc)"
      ],
      "execution_count": 19,
      "outputs": [
        {
          "output_type": "stream",
          "text": [
            "Epoch 1/5\n",
            "60000/60000 [==============================] - 6s 108us/step - loss: 0.4982 - acc: 0.8241\n",
            "Epoch 2/5\n",
            "60000/60000 [==============================] - 6s 107us/step - loss: 0.3742 - acc: 0.8644\n",
            "Epoch 3/5\n",
            "60000/60000 [==============================] - 7s 109us/step - loss: 0.3367 - acc: 0.8781\n",
            "Epoch 4/5\n",
            "60000/60000 [==============================] - 7s 110us/step - loss: 0.3122 - acc: 0.8859\n",
            "Epoch 5/5\n",
            "60000/60000 [==============================] - 6s 107us/step - loss: 0.2964 - acc: 0.8919\n",
            "10000/10000 [==============================] - 0s 35us/step\n",
            "Test accuracy: 0.8738\n"
          ],
          "name": "stdout"
        }
      ]
    },
    {
      "metadata": {
        "id": "o67RtcoHtqLu",
        "colab_type": "text"
      },
      "cell_type": "markdown",
      "source": [
        "We could still use a CNN"
      ]
    },
    {
      "metadata": {
        "id": "LkCnt3mqoIUg",
        "colab_type": "code",
        "colab": {}
      },
      "cell_type": "code",
      "source": [
        "train_img = train_img.reshape((60000,28,28,1)) # 60000 training images. Each image has 28 by 28 pixels with 1 colour channel\n",
        "test_img = test_img.reshape((10000,28,28,1)) # 10000 testing images.\n",
        "train_label = to_categorical(train_label) # Converts the label class vector (integers) to binary class matrix.\n",
        "test_label = to_categorical(test_label)"
      ],
      "execution_count": 0,
      "outputs": []
    },
    {
      "metadata": {
        "id": "lN_J9z-trM53",
        "colab_type": "code",
        "colab": {
          "base_uri": "https://localhost:8080/",
          "height": 221
        },
        "outputId": "1d7e2770-6370-4395-966a-6f4f5d8f93cd"
      },
      "cell_type": "code",
      "source": [
        "model_fashion = models.Sequential()\n",
        "model_fashion.add(layers.Conv2D(16,(4,4),activation='relu',input_shape=((28,28,1))))\n",
        "model_fashion.add(layers.MaxPooling2D(2,2))\n",
        "model_fashion.add(layers.Conv2D(32,(2,2),activation='relu'))\n",
        "model_fashion.add(layers.Flatten())\n",
        "model_fashion.add(layers.Dense(32,activation='relu'))\n",
        "model_fashion.add(layers.Dense(10,activation='softmax'))\n",
        "\n",
        "model_fashion.compile(optimizer='rmsprop', loss='categorical_crossentropy',metrics=['accuracy'])\n",
        "model_fashion.fit(train_img, train_label,epochs=5, batch_size=32)\n",
        "_,test_accuracy = model_fashion.evaluate(test_img,test_label)\n",
        "print('Test accuracy:', test_accuracy)"
      ],
      "execution_count": 25,
      "outputs": [
        {
          "output_type": "stream",
          "text": [
            "Epoch 1/5\n",
            "60000/60000 [==============================] - 37s 616us/step - loss: 0.4622 - acc: 0.8349\n",
            "Epoch 2/5\n",
            "60000/60000 [==============================] - 37s 610us/step - loss: 0.3094 - acc: 0.8888\n",
            "Epoch 3/5\n",
            "60000/60000 [==============================] - 37s 614us/step - loss: 0.2665 - acc: 0.9040\n",
            "Epoch 4/5\n",
            "60000/60000 [==============================] - 37s 616us/step - loss: 0.2407 - acc: 0.9135\n",
            "Epoch 5/5\n",
            "60000/60000 [==============================] - 37s 615us/step - loss: 0.2228 - acc: 0.9196\n",
            "10000/10000 [==============================] - 3s 286us/step\n",
            "Test accuracy: 0.9007\n"
          ],
          "name": "stdout"
        }
      ]
    },
    {
      "metadata": {
        "id": "IFX2ZeJPsxPT",
        "colab_type": "text"
      },
      "cell_type": "markdown",
      "source": [
        "We would want to do a little visualization of our CNN training process to have a better idea about the convolution operations."
      ]
    },
    {
      "metadata": {
        "id": "a4PlkvBSsyXW",
        "colab_type": "code",
        "colab": {
          "base_uri": "https://localhost:8080/",
          "height": 802
        },
        "outputId": "7ab35dc5-8fbb-43c2-e0dc-5d014114732c"
      },
      "cell_type": "code",
      "source": [
        "model_fashion.summary()\n",
        "\n",
        "# Extract the outputs of the top 3 layers\n",
        "model_fashion_layer_outputs = [layer.output for layer in model_fashion.layers[:3]]\n",
        "# Creates a model to return the outputs given the model input\n",
        "activation_model_fashion = models.Model(inputs=model_fashion.input,outputs=model_fashion_layer_outputs)\n",
        "\n",
        "# With the input test images, predict the outputs for each layer activation\n",
        "activations_fashion = activation_model_fashion.predict(test_img)\n",
        "# Seperate each layer activation\n",
        "first_layer_activation = activations_fashion[0]\n",
        "second_layer_activation = activations_fashion[1]\n",
        "third_layer_activation = activations_fashion[2]\n",
        "\n",
        "# Plot out the original image and each layer activation\n",
        "r = 3\n",
        "for i in range(r):\n",
        "  fig = plt.figure(figsize = (10,40))\n",
        "  ax = fig.add_subplot(1,4,1)\n",
        "  plt.imshow(test_img[i].reshape((28,28)),cmap='viridis')\n",
        "  ax = fig.add_subplot(1,4,2)\n",
        "  plt.imshow(first_layer_activation[i,:,:,10],cmap='viridis')\n",
        "  ax = fig.add_subplot(1,4,3)\n",
        "  plt.imshow(second_layer_activation[i,:,:,10],cmap='viridis')\n",
        "  ax = fig.add_subplot(1,4,4)\n",
        "  plt.imshow(third_layer_activation[i,:,:,10],cmap='viridis')\n",
        "  "
      ],
      "execution_count": 64,
      "outputs": [
        {
          "output_type": "stream",
          "text": [
            "_________________________________________________________________\n",
            "Layer (type)                 Output Shape              Param #   \n",
            "=================================================================\n",
            "conv2d_10 (Conv2D)           (None, 25, 25, 16)        272       \n",
            "_________________________________________________________________\n",
            "max_pooling2d_7 (MaxPooling2 (None, 12, 12, 16)        0         \n",
            "_________________________________________________________________\n",
            "conv2d_11 (Conv2D)           (None, 11, 11, 32)        2080      \n",
            "_________________________________________________________________\n",
            "flatten_3 (Flatten)          (None, 3872)              0         \n",
            "_________________________________________________________________\n",
            "dense_13 (Dense)             (None, 32)                123936    \n",
            "_________________________________________________________________\n",
            "dense_14 (Dense)             (None, 10)                330       \n",
            "=================================================================\n",
            "Total params: 126,618\n",
            "Trainable params: 126,618\n",
            "Non-trainable params: 0\n",
            "_________________________________________________________________\n"
          ],
          "name": "stdout"
        },
        {
          "output_type": "display_data",
          "data": {
            "image/png": "[encoded data removed]",
            "text/plain": [
              "<Figure size 720x2880 with 4 Axes>"
            ]
          },
          "metadata": {
            "tags": []
          }
        },
        {
          "output_type": "display_data",
          "data": {
            "image/png": "[encoded data removed]",
            "text/plain": [
              "<Figure size 720x2880 with 4 Axes>"
            ]
          },
          "metadata": {
            "tags": []
          }
        },
        {
          "output_type": "display_data",
          "data": {
            "image/png": "[encoded data removed]",
            "text/plain": [
              "<Figure size 720x2880 with 4 Axes>"
            ]
          },
          "metadata": {
            "tags": []
          }
        }
      ]
    },
    {
      "metadata": {
        "id": "8SIQY9pwn4Oz",
        "colab_type": "text"
      },
      "cell_type": "markdown",
      "source": [
        "Here I show the 10th channel of each layer's activation. We could see the max-pooling operation very clearly that it exaggerate the feature chosen/activated from the last layer. In the third layer, I used another convolution operation and the 10th channel of the result activation just changed to some other features."
      ]
    },
    {
      "metadata": {
        "id": "qKcoFTdU3acT",
        "colab_type": "code",
        "colab": {}
      },
      "cell_type": "code",
      "source": [
        ""
      ],
      "execution_count": 0,
      "outputs": []
    }
  ]
}