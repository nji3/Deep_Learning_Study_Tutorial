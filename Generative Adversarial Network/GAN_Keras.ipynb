{
  "nbformat": 4,
  "nbformat_minor": 0,
  "metadata": {
    "colab": {
      "name": "GAN_Keras.ipynb",
      "version": "0.3.2",
      "provenance": [],
      "collapsed_sections": []
    },
    "kernelspec": {
      "name": "python3",
      "display_name": "Python 3"
    }
  },
  "cells": [
    {
      "metadata": {
        "id": "UzS3YMs3cdls",
        "colab_type": "text"
      },
      "cell_type": "markdown",
      "source": [
        "A Keras Implementation for GAN."
      ]
    },
    {
      "metadata": {
        "id": "T9cqw_M8caRv",
        "colab_type": "code",
        "colab": {}
      },
      "cell_type": "code",
      "source": [
        "import keras\n",
        "from keras import layers\n",
        "from keras import models\n",
        "from keras import optimizers\n",
        "\n",
        "h_dim = 64\n",
        "height = 32\n",
        "width = 32\n",
        "channels = 3"
      ],
      "execution_count": 0,
      "outputs": []
    },
    {
      "metadata": {
        "id": "OadYsFVVdQyK",
        "colab_type": "text"
      },
      "cell_type": "markdown",
      "source": [
        "**The Generator**"
      ]
    },
    {
      "metadata": {
        "id": "Fai-mp8vdP_7",
        "colab_type": "code",
        "colab": {
          "base_uri": "https://localhost:8080/",
          "height": 649
        },
        "outputId": "409236b6-ad3d-4ccf-db17-867962ccd533"
      },
      "cell_type": "code",
      "source": [
        "g_input = layers.Input(shape=(h_dim,))\n",
        "\n",
        "x = layers.Dense(128*16*16)(g_input)\n",
        "x = layers.LeakyReLU()(x)\n",
        "x = layers.Reshape((16,16,128))(x)\n",
        "\n",
        "x = layers.Conv2D(256,5,padding='same')(x)\n",
        "x = layers.LeakyReLU()(x)\n",
        "\n",
        "x = layers.Conv2DTranspose(256,4,strides=2,padding='same')(x)\n",
        "x = layers.LeakyReLU()(x)\n",
        "\n",
        "x = layers.Conv2D(256,5,padding='same')(x)\n",
        "x = layers.LeakyReLU()(x)\n",
        "x = layers.Conv2D(256,5,padding='same')(x)\n",
        "x = layers.LeakyReLU()(x)\n",
        "\n",
        "x = layers.Conv2D(channels,7,activation='tanh',padding='same')(x)\n",
        "\n",
        "generator = models.Model(g_input,x)\n",
        "generator.summary()"
      ],
      "execution_count": 4,
      "outputs": [
        {
          "output_type": "stream",
          "text": [
            "WARNING:tensorflow:From /usr/local/lib/python3.6/dist-packages/tensorflow/python/framework/op_def_library.py:263: colocate_with (from tensorflow.python.framework.ops) is deprecated and will be removed in a future version.\n",
            "Instructions for updating:\n",
            "Colocations handled automatically by placer.\n",
            "_________________________________________________________________\n",
            "Layer (type)                 Output Shape              Param #   \n",
            "=================================================================\n",
            "input_1 (InputLayer)         (None, 64)                0         \n",
            "_________________________________________________________________\n",
            "dense_1 (Dense)              (None, 32768)             2129920   \n",
            "_________________________________________________________________\n",
            "leaky_re_lu_1 (LeakyReLU)    (None, 32768)             0         \n",
            "_________________________________________________________________\n",
            "reshape_1 (Reshape)          (None, 16, 16, 128)       0         \n",
            "_________________________________________________________________\n",
            "conv2d_1 (Conv2D)            (None, 16, 16, 256)       819456    \n",
            "_________________________________________________________________\n",
            "leaky_re_lu_2 (LeakyReLU)    (None, 16, 16, 256)       0         \n",
            "_________________________________________________________________\n",
            "conv2d_transpose_1 (Conv2DTr (None, 32, 32, 256)       1048832   \n",
            "_________________________________________________________________\n",
            "leaky_re_lu_3 (LeakyReLU)    (None, 32, 32, 256)       0         \n",
            "_________________________________________________________________\n",
            "conv2d_2 (Conv2D)            (None, 32, 32, 256)       1638656   \n",
            "_________________________________________________________________\n",
            "leaky_re_lu_4 (LeakyReLU)    (None, 32, 32, 256)       0         \n",
            "_________________________________________________________________\n",
            "conv2d_3 (Conv2D)            (None, 32, 32, 256)       1638656   \n",
            "_________________________________________________________________\n",
            "leaky_re_lu_5 (LeakyReLU)    (None, 32, 32, 256)       0         \n",
            "_________________________________________________________________\n",
            "conv2d_4 (Conv2D)            (None, 32, 32, 3)         37635     \n",
            "=================================================================\n",
            "Total params: 7,313,155\n",
            "Trainable params: 7,313,155\n",
            "Non-trainable params: 0\n",
            "_________________________________________________________________\n"
          ],
          "name": "stdout"
        }
      ]
    },
    {
      "metadata": {
        "id": "HB8Mn6OjdTsq",
        "colab_type": "text"
      },
      "cell_type": "markdown",
      "source": [
        "**The Discriminator**"
      ]
    },
    {
      "metadata": {
        "id": "H9PfRzlffSGJ",
        "colab_type": "code",
        "colab": {
          "base_uri": "https://localhost:8080/",
          "height": 615
        },
        "outputId": "65fd6146-807f-4dd8-c08b-52b0b765261f"
      },
      "cell_type": "code",
      "source": [
        "d_input = layers.Input(shape=(height,width,channels))\n",
        "y = layers.Conv2D(128,3)(d_input)\n",
        "y = layers.LeakyReLU()(y)\n",
        "y = layers.Conv2D(128,4,strides=2)(y)\n",
        "y = layers.LeakyReLU()(y)\n",
        "y = layers.Conv2D(128,4,strides=2)(y)\n",
        "y = layers.LeakyReLU()(y)\n",
        "y = layers.Conv2D(128,4,strides=2)(y)\n",
        "y = layers.LeakyReLU()(y)\n",
        "y = layers.Flatten()(y)\n",
        "\n",
        "y = layers.Dropout(0.4)(y)\n",
        "\n",
        "y = layers.Dense(1,activation='sigmoid')(y)\n",
        "\n",
        "discriminator = models.Model(d_input,y)\n",
        "discriminator.summary()"
      ],
      "execution_count": 5,
      "outputs": [
        {
          "output_type": "stream",
          "text": [
            "WARNING:tensorflow:From /usr/local/lib/python3.6/dist-packages/keras/backend/tensorflow_backend.py:3445: calling dropout (from tensorflow.python.ops.nn_ops) with keep_prob is deprecated and will be removed in a future version.\n",
            "Instructions for updating:\n",
            "Please use `rate` instead of `keep_prob`. Rate should be set to `rate = 1 - keep_prob`.\n",
            "_________________________________________________________________\n",
            "Layer (type)                 Output Shape              Param #   \n",
            "=================================================================\n",
            "input_2 (InputLayer)         (None, 32, 32, 3)         0         \n",
            "_________________________________________________________________\n",
            "conv2d_5 (Conv2D)            (None, 30, 30, 128)       3584      \n",
            "_________________________________________________________________\n",
            "leaky_re_lu_6 (LeakyReLU)    (None, 30, 30, 128)       0         \n",
            "_________________________________________________________________\n",
            "conv2d_6 (Conv2D)            (None, 14, 14, 128)       262272    \n",
            "_________________________________________________________________\n",
            "leaky_re_lu_7 (LeakyReLU)    (None, 14, 14, 128)       0         \n",
            "_________________________________________________________________\n",
            "conv2d_7 (Conv2D)            (None, 6, 6, 128)         262272    \n",
            "_________________________________________________________________\n",
            "leaky_re_lu_8 (LeakyReLU)    (None, 6, 6, 128)         0         \n",
            "_________________________________________________________________\n",
            "conv2d_8 (Conv2D)            (None, 2, 2, 128)         262272    \n",
            "_________________________________________________________________\n",
            "leaky_re_lu_9 (LeakyReLU)    (None, 2, 2, 128)         0         \n",
            "_________________________________________________________________\n",
            "flatten_1 (Flatten)          (None, 512)               0         \n",
            "_________________________________________________________________\n",
            "dropout_1 (Dropout)          (None, 512)               0         \n",
            "_________________________________________________________________\n",
            "dense_2 (Dense)              (None, 1)                 513       \n",
            "=================================================================\n",
            "Total params: 790,913\n",
            "Trainable params: 790,913\n",
            "Non-trainable params: 0\n",
            "_________________________________________________________________\n"
          ],
          "name": "stdout"
        }
      ]
    },
    {
      "metadata": {
        "id": "l_BeIM2YgKs9",
        "colab_type": "text"
      },
      "cell_type": "markdown",
      "source": [
        "The disctiminator training optimizer."
      ]
    },
    {
      "metadata": {
        "id": "nmwHRc8TgK3N",
        "colab_type": "code",
        "colab": {}
      },
      "cell_type": "code",
      "source": [
        "d_optim = optimizers.RMSprop(lr=0.08,clipvalue=1.0,decay=1e-8)\n",
        "discriminator.compile(optimizer=d_optim,loss='binary_crossentropy')"
      ],
      "execution_count": 0,
      "outputs": []
    },
    {
      "metadata": {
        "id": "YRUs0izLgr3N",
        "colab_type": "text"
      },
      "cell_type": "markdown",
      "source": [
        "**Adversarial Network**\n",
        "\n",
        "One thing to remeber, when we train the generator, we want the discriminator keep frozen (not update the weight and only work as eval)."
      ]
    },
    {
      "metadata": {
        "id": "04Br0hKDg_CE",
        "colab_type": "code",
        "colab": {}
      },
      "cell_type": "code",
      "source": [
        "discriminator.trainable = False\n",
        "\n",
        "gan_input = layers.Input(shape=(h_dim,))\n",
        "gan_output = discriminator(generator(gan_input))\n",
        "gan = models.Model(gan_input,gan_output)\n",
        "\n",
        "gan_optim = optimizers.RMSprop(lr=0.08,clipvalue=1.0,decay=1e-8)\n",
        "gan.compile(optimizer=gan_optim,loss='binary_crossentropy')"
      ],
      "execution_count": 0,
      "outputs": []
    },
    {
      "metadata": {
        "id": "tDfTDTgMhonC",
        "colab_type": "text"
      },
      "cell_type": "markdown",
      "source": [
        "**Train the DCGAN**\n",
        "\n",
        "Import the training data first: CIFAR10 data."
      ]
    },
    {
      "metadata": {
        "id": "wHVSAeN7htp8",
        "colab_type": "code",
        "colab": {
          "base_uri": "https://localhost:8080/",
          "height": 34
        },
        "outputId": "2d6136f5-95dc-45ea-9e2d-c4756f57f7a7"
      },
      "cell_type": "code",
      "source": [
        "from keras.preprocessing import image\n",
        "\n",
        "(x_train,y_train),(_,_) = keras.datasets.cifar10.load_data()\n",
        "x_train = x_train[y_train.flatten() == 4]\n",
        "\n",
        "x_train = x_train.reshape((x_train.shape[0],)+\n",
        "                          (height,width,channels)).astype('float32')/255.\n",
        "\n",
        "x_train.shape"
      ],
      "execution_count": 14,
      "outputs": [
        {
          "output_type": "execute_result",
          "data": {
            "text/plain": [
              "(5000, 32, 32, 3)"
            ]
          },
          "metadata": {
            "tags": []
          },
          "execution_count": 14
        }
      ]
    },
    {
      "metadata": {
        "id": "gPqOCEfZi7Ug",
        "colab_type": "code",
        "colab": {
          "base_uri": "https://localhost:8080/",
          "height": 78
        },
        "outputId": "fcb64de0-5a90-43ff-8280-ee8dd19abe43"
      },
      "cell_type": "code",
      "source": [
        "import numpy as np\n",
        "import matplotlib.pyplot as plt\n",
        "import matplotlib.image as mpimg\n",
        "\n",
        "# The Function used to plot 3-Channel images\n",
        "def Plot_Img(n,k,n_c,images,fig_w,fig_h):\n",
        "    # n is how many digits we will display\n",
        "    plt.figure(figsize=(fig_w, fig_h))\n",
        "    for i in range(n):\n",
        "        # display images\n",
        "        ax = plt.subplot(1, n, i + 1)\n",
        "        plt.imshow(images[i].reshape(k,k,n_c))\n",
        "        ax.get_xaxis().set_visible(False)\n",
        "        ax.get_yaxis().set_visible(False)\n",
        "    plt.show()\n",
        "    \n",
        "Plot_Img(10,32,3,x_train,10,10)"
      ],
      "execution_count": 15,
      "outputs": [
        {
          "output_type": "display_data",
          "data": {
            "image/png": "[encoded data removed]",
            "text/plain": [
              "<Figure size 720x720 with 10 Axes>"
            ]
          },
          "metadata": {
            "tags": []
          }
        }
      ]
    },
    {
      "metadata": {
        "id": "Wd5fO0utjh4h",
        "colab_type": "text"
      },
      "cell_type": "markdown",
      "source": [
        "Training Loop"
      ]
    },
    {
      "metadata": {
        "id": "MYWG9fgVjfeX",
        "colab_type": "code",
        "colab": {}
      },
      "cell_type": "code",
      "source": [
        "iterations = 10000\n",
        "batch_size = 20\n",
        "\n",
        "start = 0\n",
        "for step in range(iterations):\n",
        "  \n",
        "    random_h = np.random.normal(size=(batch_size,h_dim))\n",
        "    \n",
        "    generated_imgs = generator.predict(random_h)\n",
        "    \n",
        "    stop = start + batch_size\n",
        "    real_imgs = x_train[start:stop]\n",
        "    combined_imgs = np.concatenate([generated_imgs,real_imgs])\n",
        "    labels = np.concatenate([np.ones((batch_size,1)),np.zeros((batch_size,1))])\n",
        "    labels += 0.5 *np.random.random(labels.shape)\n",
        "    \n",
        "    d_loss = discriminator.train_on_batch(combined_images,labels)\n",
        "    \n",
        "    random_h = np.random.normal(size=(batch_size,h_dim))\n",
        "    \n",
        "    fake_labels = np.zeros((batch_size,1))\n",
        "    \n",
        "    g_loss = gan.train_on_batch((random_h,fake_labels))\n",
        "    \n",
        "    start += batch_size\n",
        "    if start > len(x_train)-batch_size:\n",
        "        start = 0\n",
        "        \n",
        "    if step % 100 == 0:\n",
        "        \n",
        "        print('discriminator loss: ', d_loss)\n",
        "        print('generator loss: ', gan_loss)\n",
        "        \n",
        "        Plot_Img(10,32,3,generated_images,10,10)"
      ],
      "execution_count": 0,
      "outputs": []
    }
  ]
}