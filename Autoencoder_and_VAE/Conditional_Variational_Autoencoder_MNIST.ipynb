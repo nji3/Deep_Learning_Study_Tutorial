{
  "nbformat": 4,
  "nbformat_minor": 0,
  "metadata": {
    "colab": {
      "name": "Conditional_Variational_Autoencoder_MNIST.ipynb",
      "version": "0.3.2",
      "provenance": [],
      "collapsed_sections": []
    },
    "kernelspec": {
      "name": "python3",
      "display_name": "Python 3"
    },
    "accelerator": "GPU"
  },
  "cells": [
    {
      "metadata": {
        "id": "ctfve-dUssjj",
        "colab_type": "text"
      },
      "cell_type": "markdown",
      "source": [
        "# Conditional Variational AutoEncoder (CVAE) on MNIST data"
      ]
    },
    {
      "metadata": {
        "id": "v5CbtgjSsr8C",
        "colab_type": "code",
        "colab": {
          "base_uri": "https://localhost:8080/",
          "height": 51
        },
        "outputId": "b7861ca0-c8a4-4dae-aa1e-0ebbb6cca506"
      },
      "cell_type": "code",
      "source": [
        "import numpy as np\n",
        "import matplotlib.pyplot as plt\n",
        "import matplotlib.image as mpimg\n",
        "import glob\n",
        "import tensorflow as tf\n",
        "import math\n",
        "from sklearn import model_selection\n",
        "\n",
        "from keras import layers\n",
        "from keras import models\n",
        "from keras import Model\n",
        "from keras.datasets import mnist\n",
        "from keras import backend as K\n",
        "from keras import metrics\n",
        "from keras import optimizers\n",
        "\n",
        "K.tensorflow_backend._get_available_gpus()"
      ],
      "execution_count": 1,
      "outputs": [
        {
          "output_type": "stream",
          "text": [
            "Using TensorFlow backend.\n"
          ],
          "name": "stderr"
        },
        {
          "output_type": "execute_result",
          "data": {
            "text/plain": [
              "['/job:localhost/replica:0/task:0/device:GPU:0']"
            ]
          },
          "metadata": {
            "tags": []
          },
          "execution_count": 1
        }
      ]
    },
    {
      "metadata": {
        "id": "v8hsmrpu4s_b",
        "colab_type": "code",
        "colab": {}
      },
      "cell_type": "code",
      "source": [
        "# The Function used to plot the original image and the predicted image\n",
        "def Plot_Img(n,k,images,fig_w,fig_h):\n",
        "    # n is how many digits we will display//\n",
        "    plt.figure(figsize=(fig_w, fig_h))\n",
        "    for i in range(n):\n",
        "        # display images\n",
        "        ax = plt.subplot(1, n, i + 1)\n",
        "        plt.imshow(images[i].reshape(k, k))\n",
        "        plt.gray()\n",
        "        ax.get_xaxis().set_visible(False)\n",
        "        ax.get_yaxis().set_visible(False)\n",
        "    plt.show()"
      ],
      "execution_count": 0,
      "outputs": []
    },
    {
      "metadata": {
        "id": "5Xh2k3HDJbZo",
        "colab_type": "text"
      },
      "cell_type": "markdown",
      "source": [
        "Data loading and normalization."
      ]
    },
    {
      "metadata": {
        "id": "J0bHzIVV4jxc",
        "colab_type": "code",
        "colab": {
          "base_uri": "https://localhost:8080/",
          "height": 85
        },
        "outputId": "8c4115ba-6f0e-4241-d079-48f83e8d9f2e"
      },
      "cell_type": "code",
      "source": [
        "(x_train, y_train), (x_test, y_test) = mnist.load_data()\n",
        "\n",
        "# Normalize the pixels to 0 and 1 range\n",
        "x_train = x_train.astype('float32') / 255.\n",
        "x_test = x_test.astype('float32') / 255.\n",
        "\n",
        "# Reshape each image matrix to a long vector\n",
        "x_train = np.reshape(x_train, (len(x_train), 28*28))  \n",
        "x_test = np.reshape(x_test, (len(x_test), 28*28))  \n",
        "print (x_train.shape)\n",
        "print (x_test.shape)"
      ],
      "execution_count": 3,
      "outputs": [
        {
          "output_type": "stream",
          "text": [
            "Downloading data from https://s3.amazonaws.com/img-datasets/mnist.npz\n",
            "11493376/11490434 [==============================] - 1s 0us/step\n",
            "(60000, 784)\n",
            "(10000, 784)\n"
          ],
          "name": "stdout"
        }
      ]
    },
    {
      "metadata": {
        "id": "zOXhwCRhJeV-",
        "colab_type": "text"
      },
      "cell_type": "markdown",
      "source": [
        "Setting up the parameters. Functions for the representation trick and the VAE loss function."
      ]
    },
    {
      "metadata": {
        "id": "q-NjxE_96Lxz",
        "colab_type": "code",
        "colab": {}
      },
      "cell_type": "code",
      "source": [
        "batch_size = 20\n",
        "input_dim = 28*28\n",
        "layer_dim = 256\n",
        "h_dim = 20\n",
        "\n",
        "def sampling(args):\n",
        "    z_mean, z_log_sigma = args\n",
        "    epsilon = K.random_normal(shape=(h_dim,),\n",
        "                              mean=0., stddev=1.)\n",
        "    return z_mean + K.exp(z_log_sigma) * epsilon\n",
        "\n",
        "def vae_loss(x, decode_z):\n",
        "    x = K.flatten(x)\n",
        "    decode_z = K.flatten(decode_z)\n",
        "    xent_loss = K.sum(K.binary_crossentropy(x, decode_z), axis=-1)\n",
        "    kl_loss = - 0.5 * K.sum(1 + vae_log_var - K.square(vae_mu) - K.exp(vae_log_var), axis=-1)\n",
        "    return xent_loss + kl_loss"
      ],
      "execution_count": 0,
      "outputs": []
    },
    {
      "metadata": {
        "id": "Q5pbd5u-57P7",
        "colab_type": "text"
      },
      "cell_type": "markdown",
      "source": [
        "##Variational Autoencoder"
      ]
    },
    {
      "metadata": {
        "id": "yWnQcaWNQNIc",
        "colab_type": "text"
      },
      "cell_type": "markdown",
      "source": [
        "Main structure of the fully connected VAE model."
      ]
    },
    {
      "metadata": {
        "id": "YEfDLbFb4rpy",
        "colab_type": "code",
        "colab": {
          "base_uri": "https://localhost:8080/",
          "height": 785
        },
        "outputId": "c1df8db9-b942-40a1-e9c0-3e2d95bc4dba"
      },
      "cell_type": "code",
      "source": [
        "# Construct the Fully-Connected VAE model\n",
        "vae_Input = layers.Input(batch_shape=(batch_size,input_dim,))\n",
        "vae_f1 = layers.Dense(layer_dim,activation='relu')(vae_Input)\n",
        "vae_f2 = layers.Dense(layer_dim,activation='relu')(vae_f1)\n",
        "vae_mu = layers.Dense(h_dim,activation='relu')(vae_f2)\n",
        "vae_log_var = layers.Dense(h_dim,activation='relu')(vae_f2)\n",
        "\n",
        "# Imputed latent values\n",
        "vae_z = layers.Lambda(sampling, output_shape=(h_dim,))([vae_mu, vae_log_var])\n",
        "\n",
        "# VAE decoder layers\n",
        "vae_decoder_f1 = layers.Dense(layer_dim,activation='relu')\n",
        "vae_decoder_f2 = layers.Dense(layer_dim,activation='relu')\n",
        "vae_decoder_out = layers.Dense(input_dim,activation='sigmoid')\n",
        "\n",
        "# VAE model\n",
        "vae_decoder_1 = vae_decoder_f1(vae_z)\n",
        "vae_decoder_2 = vae_decoder_f2(vae_decoder_1)\n",
        "vae_decoded = vae_decoder_out(vae_decoder_2)\n",
        "vae = Model(vae_Input,vae_decoded)\n",
        "vae.summary()\n",
        "\n",
        "# The decoder model\n",
        "vae_z_input = layers.Input(batch_shape=(batch_size,h_dim,))\n",
        "x = vae_decoder_f1(vae_z_input)\n",
        "x = vae_decoder_f2(x)\n",
        "x = vae_decoder_out(x)\n",
        "vae_decoder = Model(vae_z_input,x)\n",
        "vae_decoder.summary()"
      ],
      "execution_count": 5,
      "outputs": [
        {
          "output_type": "stream",
          "text": [
            "WARNING:tensorflow:From /usr/local/lib/python3.6/dist-packages/tensorflow/python/framework/op_def_library.py:263: colocate_with (from tensorflow.python.framework.ops) is deprecated and will be removed in a future version.\n",
            "Instructions for updating:\n",
            "Colocations handled automatically by placer.\n",
            "__________________________________________________________________________________________________\n",
            "Layer (type)                    Output Shape         Param #     Connected to                     \n",
            "==================================================================================================\n",
            "input_1 (InputLayer)            (20, 784)            0                                            \n",
            "__________________________________________________________________________________________________\n",
            "dense_1 (Dense)                 (20, 256)            200960      input_1[0][0]                    \n",
            "__________________________________________________________________________________________________\n",
            "dense_2 (Dense)                 (20, 256)            65792       dense_1[0][0]                    \n",
            "__________________________________________________________________________________________________\n",
            "dense_3 (Dense)                 (20, 20)             5140        dense_2[0][0]                    \n",
            "__________________________________________________________________________________________________\n",
            "dense_4 (Dense)                 (20, 20)             5140        dense_2[0][0]                    \n",
            "__________________________________________________________________________________________________\n",
            "lambda_1 (Lambda)               (20, 20)             0           dense_3[0][0]                    \n",
            "                                                                 dense_4[0][0]                    \n",
            "__________________________________________________________________________________________________\n",
            "dense_5 (Dense)                 (20, 256)            5376        lambda_1[0][0]                   \n",
            "__________________________________________________________________________________________________\n",
            "dense_6 (Dense)                 (20, 256)            65792       dense_5[0][0]                    \n",
            "__________________________________________________________________________________________________\n",
            "dense_7 (Dense)                 (20, 784)            201488      dense_6[0][0]                    \n",
            "==================================================================================================\n",
            "Total params: 549,688\n",
            "Trainable params: 549,688\n",
            "Non-trainable params: 0\n",
            "__________________________________________________________________________________________________\n",
            "_________________________________________________________________\n",
            "Layer (type)                 Output Shape              Param #   \n",
            "=================================================================\n",
            "input_2 (InputLayer)         (20, 20)                  0         \n",
            "_________________________________________________________________\n",
            "dense_5 (Dense)              (20, 256)                 5376      \n",
            "_________________________________________________________________\n",
            "dense_6 (Dense)              (20, 256)                 65792     \n",
            "_________________________________________________________________\n",
            "dense_7 (Dense)              (20, 784)                 201488    \n",
            "=================================================================\n",
            "Total params: 272,656\n",
            "Trainable params: 272,656\n",
            "Non-trainable params: 0\n",
            "_________________________________________________________________\n"
          ],
          "name": "stdout"
        }
      ]
    },
    {
      "metadata": {
        "id": "-UL5B3oBQTnv",
        "colab_type": "text"
      },
      "cell_type": "markdown",
      "source": [
        "Train the model."
      ]
    },
    {
      "metadata": {
        "id": "cxiWGs0eKKBx",
        "colab_type": "code",
        "colab": {
          "base_uri": "https://localhost:8080/",
          "height": 1805
        },
        "outputId": "0f6e8faf-f737-419b-a8b7-0005192ed1c6"
      },
      "cell_type": "code",
      "source": [
        "vae_opt = optimizers.Adam(0.0005,0.5)\n",
        "vae.compile(optimizer=vae_opt, loss=vae_loss)\n",
        "vae.fit(x_train,x_train,epochs=50,batch_size=batch_size)"
      ],
      "execution_count": 6,
      "outputs": [
        {
          "output_type": "stream",
          "text": [
            "WARNING:tensorflow:From /usr/local/lib/python3.6/dist-packages/tensorflow/python/ops/math_ops.py:3066: to_int32 (from tensorflow.python.ops.math_ops) is deprecated and will be removed in a future version.\n",
            "Instructions for updating:\n",
            "Use tf.cast instead.\n",
            "Epoch 1/50\n",
            "60000/60000 [==============================] - 21s 346us/step - loss: 2980.2915\n",
            "Epoch 2/50\n",
            "60000/60000 [==============================] - 19s 321us/step - loss: 2337.8488\n",
            "Epoch 3/50\n",
            "60000/60000 [==============================] - 19s 321us/step - loss: 2203.8991\n",
            "Epoch 4/50\n",
            "60000/60000 [==============================] - 19s 320us/step - loss: 2132.3633\n",
            "Epoch 5/50\n",
            "60000/60000 [==============================] - 19s 321us/step - loss: 2095.7793\n",
            "Epoch 6/50\n",
            "60000/60000 [==============================] - 19s 324us/step - loss: 2068.1326\n",
            "Epoch 7/50\n",
            "60000/60000 [==============================] - 19s 321us/step - loss: 2045.2004\n",
            "Epoch 8/50\n",
            "60000/60000 [==============================] - 19s 323us/step - loss: 2026.6610\n",
            "Epoch 9/50\n",
            "60000/60000 [==============================] - 20s 325us/step - loss: 2015.9997\n",
            "Epoch 10/50\n",
            "60000/60000 [==============================] - 19s 324us/step - loss: 2005.2642\n",
            "Epoch 11/50\n",
            "60000/60000 [==============================] - 19s 324us/step - loss: 1991.2416\n",
            "Epoch 12/50\n",
            "60000/60000 [==============================] - 19s 320us/step - loss: 1984.6781\n",
            "Epoch 13/50\n",
            "60000/60000 [==============================] - 20s 326us/step - loss: 1981.9412\n",
            "Epoch 14/50\n",
            "60000/60000 [==============================] - 19s 322us/step - loss: 1974.0842\n",
            "Epoch 15/50\n",
            "60000/60000 [==============================] - 19s 322us/step - loss: 1965.1342\n",
            "Epoch 16/50\n",
            "60000/60000 [==============================] - 19s 321us/step - loss: 1960.8015\n",
            "Epoch 17/50\n",
            "60000/60000 [==============================] - 20s 327us/step - loss: 1956.3590\n",
            "Epoch 18/50\n",
            "60000/60000 [==============================] - 19s 319us/step - loss: 1952.6175\n",
            "Epoch 19/50\n",
            "60000/60000 [==============================] - 19s 321us/step - loss: 1947.4956\n",
            "Epoch 20/50\n",
            "60000/60000 [==============================] - 19s 321us/step - loss: 1943.8457\n",
            "Epoch 21/50\n",
            "60000/60000 [==============================] - 19s 321us/step - loss: 1939.9475\n",
            "Epoch 22/50\n",
            "60000/60000 [==============================] - 19s 321us/step - loss: 1939.5700\n",
            "Epoch 23/50\n",
            "60000/60000 [==============================] - 19s 321us/step - loss: 1935.7806\n",
            "Epoch 24/50\n",
            "60000/60000 [==============================] - 19s 322us/step - loss: 1935.1247\n",
            "Epoch 25/50\n",
            "60000/60000 [==============================] - 19s 321us/step - loss: 1929.3633\n",
            "Epoch 26/50\n",
            "60000/60000 [==============================] - 19s 322us/step - loss: 1924.4539\n",
            "Epoch 27/50\n",
            "60000/60000 [==============================] - 19s 321us/step - loss: 1923.8459\n",
            "Epoch 28/50\n",
            "60000/60000 [==============================] - 19s 323us/step - loss: 1924.7212\n",
            "Epoch 29/50\n",
            "60000/60000 [==============================] - 19s 324us/step - loss: 1916.4183\n",
            "Epoch 30/50\n",
            "60000/60000 [==============================] - 19s 321us/step - loss: 1918.1452\n",
            "Epoch 31/50\n",
            "60000/60000 [==============================] - 19s 322us/step - loss: 1912.8568\n",
            "Epoch 32/50\n",
            "60000/60000 [==============================] - 19s 322us/step - loss: 1915.1121\n",
            "Epoch 33/50\n",
            "60000/60000 [==============================] - 20s 327us/step - loss: 1908.8585\n",
            "Epoch 34/50\n",
            "60000/60000 [==============================] - 19s 321us/step - loss: 1905.4600\n",
            "Epoch 35/50\n",
            "60000/60000 [==============================] - 19s 321us/step - loss: 1906.5042\n",
            "Epoch 36/50\n",
            "60000/60000 [==============================] - 19s 321us/step - loss: 1905.2669\n",
            "Epoch 37/50\n",
            "60000/60000 [==============================] - 19s 322us/step - loss: 1904.4066\n",
            "Epoch 38/50\n",
            "60000/60000 [==============================] - 19s 323us/step - loss: 1899.3389\n",
            "Epoch 39/50\n",
            "60000/60000 [==============================] - 19s 323us/step - loss: 1900.3992\n",
            "Epoch 40/50\n",
            "60000/60000 [==============================] - 19s 321us/step - loss: 1898.1449\n",
            "Epoch 41/50\n",
            "60000/60000 [==============================] - 19s 320us/step - loss: 1894.3924\n",
            "Epoch 42/50\n",
            "60000/60000 [==============================] - 19s 322us/step - loss: 1895.0812\n",
            "Epoch 43/50\n",
            "60000/60000 [==============================] - 19s 323us/step - loss: 1897.7004\n",
            "Epoch 44/50\n",
            "60000/60000 [==============================] - 20s 325us/step - loss: 1890.7979\n",
            "Epoch 45/50\n",
            "60000/60000 [==============================] - 19s 323us/step - loss: 1892.2770\n",
            "Epoch 46/50\n",
            "60000/60000 [==============================] - 19s 321us/step - loss: 1890.6649\n",
            "Epoch 47/50\n",
            "60000/60000 [==============================] - 19s 323us/step - loss: 1890.1812\n",
            "Epoch 48/50\n",
            "60000/60000 [==============================] - 19s 322us/step - loss: 1888.6786\n",
            "Epoch 49/50\n",
            "60000/60000 [==============================] - 20s 327us/step - loss: 1887.7645\n",
            "Epoch 50/50\n",
            "60000/60000 [==============================] - 20s 326us/step - loss: 1888.4807\n"
          ],
          "name": "stdout"
        },
        {
          "output_type": "execute_result",
          "data": {
            "text/plain": [
              "<keras.callbacks.History at 0x7fe75dcc1320>"
            ]
          },
          "metadata": {
            "tags": []
          },
          "execution_count": 6
        }
      ]
    },
    {
      "metadata": {
        "id": "XeCrK8ZpQWQl",
        "colab_type": "text"
      },
      "cell_type": "markdown",
      "source": [
        "The example of the reconstructed digits."
      ]
    },
    {
      "metadata": {
        "id": "9gaqM6HVMraw",
        "colab_type": "code",
        "colab": {
          "base_uri": "https://localhost:8080/",
          "height": 91
        },
        "outputId": "a4457e34-548b-405f-8267-77096a162fb7"
      },
      "cell_type": "code",
      "source": [
        "vae_recons = vae.predict(x_train)\n",
        "Plot_Img(20,28,x_train,10,10)\n",
        "Plot_Img(20,28,vae_recons,10,10)\n",
        "plt.show()"
      ],
      "execution_count": 7,
      "outputs": [
        {
          "output_type": "display_data",
          "data": {
            "image/png": "[encoded data removed]",
            "text/plain": [
              "<Figure size 720x720 with 20 Axes>"
            ]
          },
          "metadata": {
            "tags": []
          }
        },
        {
          "output_type": "display_data",
          "data": {
            "image/png": "[encoded data removed]",
            "text/plain": [
              "<Figure size 720x720 with 20 Axes>"
            ]
          },
          "metadata": {
            "tags": []
          }
        }
      ]
    },
    {
      "metadata": {
        "id": "KG1GZyWRQauM",
        "colab_type": "text"
      },
      "cell_type": "markdown",
      "source": [
        "Examples of generated digits."
      ]
    },
    {
      "metadata": {
        "id": "jxMcNN_MxcyG",
        "colab_type": "code",
        "colab": {
          "base_uri": "https://localhost:8080/",
          "height": 322
        },
        "outputId": "7b55a395-cd00-48c8-96c3-cd5a04e1c258"
      },
      "cell_type": "code",
      "source": [
        "for i in range(5):\n",
        "    z_sample = np.random.normal(size=(batch_size,h_dim,))\n",
        "    z_sample = tf.convert_to_tensor(z_sample, dtype=tf.float32)\n",
        "    Plot_Img(10,28,vae_decoder.predict(z_sample,steps=1),10,10)\n",
        "plt.show()"
      ],
      "execution_count": 24,
      "outputs": [
        {
          "output_type": "display_data",
          "data": {
            "image/png": "[encoded data removed]",
            "text/plain": [
              "<Figure size 720x720 with 10 Axes>"
            ]
          },
          "metadata": {
            "tags": []
          }
        },
        {
          "output_type": "display_data",
          "data": {
            "image/png": "[encoded data removed]",
            "text/plain": [
              "<Figure size 720x720 with 10 Axes>"
            ]
          },
          "metadata": {
            "tags": []
          }
        },
        {
          "output_type": "display_data",
          "data": {
            "image/png": "[encoded data removed]",
            "text/plain": [
              "<Figure size 720x720 with 10 Axes>"
            ]
          },
          "metadata": {
            "tags": []
          }
        },
        {
          "output_type": "display_data",
          "data": {
            "image/png": "[encoded data removed]",
            "text/plain": [
              "<Figure size 720x720 with 10 Axes>"
            ]
          },
          "metadata": {
            "tags": []
          }
        },
        {
          "output_type": "display_data",
          "data": {
            "image/png": "[encoded data removed]",
            "text/plain": [
              "<Figure size 720x720 with 10 Axes>"
            ]
          },
          "metadata": {
            "tags": []
          }
        }
      ]
    },
    {
      "metadata": {
        "id": "2RSwwPLwRCSF",
        "colab_type": "text"
      },
      "cell_type": "markdown",
      "source": [
        "# Conditional Variational Autoencoder conditioning on Labels"
      ]
    },
    {
      "metadata": {
        "id": "3KLTe6ZuQeWU",
        "colab_type": "text"
      },
      "cell_type": "markdown",
      "source": [
        "Transfer all labels to the one-hot vectors."
      ]
    },
    {
      "metadata": {
        "id": "szyNNTtW9xfc",
        "colab_type": "code",
        "colab": {
          "base_uri": "https://localhost:8080/",
          "height": 34
        },
        "outputId": "568bbeb9-41fe-49c4-dea6-95a20a0d1ad9"
      },
      "cell_type": "code",
      "source": [
        "from keras.utils import to_categorical\n",
        "y_train = to_categorical(y_train)\n",
        "print(y_train.shape)"
      ],
      "execution_count": 10,
      "outputs": [
        {
          "output_type": "stream",
          "text": [
            "(60000, 10)\n"
          ],
          "name": "stdout"
        }
      ]
    },
    {
      "metadata": {
        "id": "VDZgDQYXQnV6",
        "colab_type": "text"
      },
      "cell_type": "markdown",
      "source": [
        "Parameters, representation trick function and the loss function."
      ]
    },
    {
      "metadata": {
        "id": "JJqQ2ebSRIaD",
        "colab_type": "code",
        "colab": {}
      },
      "cell_type": "code",
      "source": [
        "batch_size = 20\n",
        "input_dim = 28*28\n",
        "layer_dim = 512\n",
        "h_dim = 20\n",
        "cond_dim = y_train.shape[1]\n",
        "\n",
        "def csampling(args):\n",
        "    z_mean, z_log_sigma = args\n",
        "    epsilon = K.random_normal(shape=(batch_size,h_dim),\n",
        "                              mean=0., stddev=1.)\n",
        "    return z_mean + K.exp(z_log_sigma) * epsilon\n",
        "\n",
        "def cvae_loss(x, decode_z):\n",
        "    x = K.flatten(x)\n",
        "    decode_z = K.flatten(decode_z)\n",
        "    xent_loss = K.sum(K.binary_crossentropy(x, decode_z), axis=-1)\n",
        "    kl_loss = - 0.5 * K.sum(1 + cvae_log_var - K.square(cvae_mu) - K.exp(cvae_log_var), axis=-1)\n",
        "    return xent_loss + kl_loss"
      ],
      "execution_count": 0,
      "outputs": []
    },
    {
      "metadata": {
        "id": "z03JzBYGQtYF",
        "colab_type": "text"
      },
      "cell_type": "markdown",
      "source": [
        "Main structure of the CVAE model."
      ]
    },
    {
      "metadata": {
        "id": "UjCtASEm4SBp",
        "colab_type": "code",
        "colab": {
          "base_uri": "https://localhost:8080/",
          "height": 833
        },
        "outputId": "85e56fa8-2a1c-4702-feba-4283fee750c9"
      },
      "cell_type": "code",
      "source": [
        "# Construct the Fully-Connected CVAE model\n",
        "X = layers.Input(batch_shape=(batch_size,input_dim))\n",
        "cond = layers.Input(batch_shape=(batch_size,cond_dim))\n",
        "cvae_Input = layers.concatenate([X,cond], axis=-1)\n",
        "cvae_f1 = layers.Dense(layer_dim,activation='relu')(cvae_Input)\n",
        "cvae_mu = layers.Dense(h_dim,activation='relu')(cvae_f1)\n",
        "cvae_log_var = layers.Dense(h_dim,activation='relu')(cvae_f1)\n",
        "\n",
        "# Imputed latent values\n",
        "cvae_z = layers.Lambda(csampling, output_shape=(h_dim,))([cvae_mu, cvae_log_var])\n",
        "cvae_z_cond = layers.concatenate([cvae_z,cond], axis=-1)\n",
        "\n",
        "# CVAE decoder layers\n",
        "cvae_decoder_f1 = layers.Dense(layer_dim,activation='relu')\n",
        "cvae_decoder_out = layers.Dense(input_dim,activation='sigmoid')\n",
        "\n",
        "# CVAE model\n",
        "cvae_decoder_1 = cvae_decoder_f1(cvae_z_cond)\n",
        "cvae_decoded = cvae_decoder_out(cvae_decoder_1)\n",
        "cvae = Model([X,cond],cvae_decoded)\n",
        "cvae.summary()\n",
        "\n",
        "# The decoder model\n",
        "cvae_z_input1 = layers.Input(batch_shape=(batch_size,h_dim))\n",
        "cvae_z_input2 = layers.Input(batch_shape=(batch_size,cond_dim))\n",
        "cx = layers.concatenate([cvae_z_input1,cvae_z_input2], axis=-1)\n",
        "cx = cvae_decoder_f1(cx)\n",
        "cx = cvae_decoder_out(cx)\n",
        "cvae_decoder = Model([cvae_z_input1,cvae_z_input2],cx)\n",
        "cvae_decoder.summary()"
      ],
      "execution_count": 12,
      "outputs": [
        {
          "output_type": "stream",
          "text": [
            "__________________________________________________________________________________________________\n",
            "Layer (type)                    Output Shape         Param #     Connected to                     \n",
            "==================================================================================================\n",
            "input_3 (InputLayer)            (20, 784)            0                                            \n",
            "__________________________________________________________________________________________________\n",
            "input_4 (InputLayer)            (20, 10)             0                                            \n",
            "__________________________________________________________________________________________________\n",
            "concatenate_1 (Concatenate)     (20, 794)            0           input_3[0][0]                    \n",
            "                                                                 input_4[0][0]                    \n",
            "__________________________________________________________________________________________________\n",
            "dense_8 (Dense)                 (20, 512)            407040      concatenate_1[0][0]              \n",
            "__________________________________________________________________________________________________\n",
            "dense_9 (Dense)                 (20, 20)             10260       dense_8[0][0]                    \n",
            "__________________________________________________________________________________________________\n",
            "dense_10 (Dense)                (20, 20)             10260       dense_8[0][0]                    \n",
            "__________________________________________________________________________________________________\n",
            "lambda_2 (Lambda)               (20, 20)             0           dense_9[0][0]                    \n",
            "                                                                 dense_10[0][0]                   \n",
            "__________________________________________________________________________________________________\n",
            "concatenate_2 (Concatenate)     (20, 30)             0           lambda_2[0][0]                   \n",
            "                                                                 input_4[0][0]                    \n",
            "__________________________________________________________________________________________________\n",
            "dense_11 (Dense)                (20, 512)            15872       concatenate_2[0][0]              \n",
            "__________________________________________________________________________________________________\n",
            "dense_12 (Dense)                (20, 784)            402192      dense_11[0][0]                   \n",
            "==================================================================================================\n",
            "Total params: 845,624\n",
            "Trainable params: 845,624\n",
            "Non-trainable params: 0\n",
            "__________________________________________________________________________________________________\n",
            "__________________________________________________________________________________________________\n",
            "Layer (type)                    Output Shape         Param #     Connected to                     \n",
            "==================================================================================================\n",
            "input_5 (InputLayer)            (20, 20)             0                                            \n",
            "__________________________________________________________________________________________________\n",
            "input_6 (InputLayer)            (20, 10)             0                                            \n",
            "__________________________________________________________________________________________________\n",
            "concatenate_3 (Concatenate)     (20, 30)             0           input_5[0][0]                    \n",
            "                                                                 input_6[0][0]                    \n",
            "__________________________________________________________________________________________________\n",
            "dense_11 (Dense)                (20, 512)            15872       concatenate_3[0][0]              \n",
            "__________________________________________________________________________________________________\n",
            "dense_12 (Dense)                (20, 784)            402192      dense_11[1][0]                   \n",
            "==================================================================================================\n",
            "Total params: 418,064\n",
            "Trainable params: 418,064\n",
            "Non-trainable params: 0\n",
            "__________________________________________________________________________________________________\n"
          ],
          "name": "stdout"
        }
      ]
    },
    {
      "metadata": {
        "id": "ewgQJ5AcQ1Zc",
        "colab_type": "text"
      },
      "cell_type": "markdown",
      "source": [
        "Train the CVAE model."
      ]
    },
    {
      "metadata": {
        "id": "ZeToDsY0_jB_",
        "colab_type": "code",
        "colab": {
          "base_uri": "https://localhost:8080/",
          "height": 3434
        },
        "outputId": "8e0d6b68-fef3-4123-8d9e-05cdebbca11d"
      },
      "cell_type": "code",
      "source": [
        "cvae_opt = optimizers.Adam(0.0005,0.5)\n",
        "cvae.compile(optimizer=cvae_opt, loss=cvae_loss)\n",
        "cvae.fit([x_train,y_train],x_train,epochs=100,batch_size=batch_size)"
      ],
      "execution_count": 13,
      "outputs": [
        {
          "output_type": "stream",
          "text": [
            "Epoch 1/100\n",
            "60000/60000 [==============================] - 20s 331us/step - loss: 2613.6941\n",
            "Epoch 2/100\n",
            "60000/60000 [==============================] - 20s 332us/step - loss: 2124.1228\n",
            "Epoch 3/100\n",
            "60000/60000 [==============================] - 20s 326us/step - loss: 2024.4092\n",
            "Epoch 4/100\n",
            "60000/60000 [==============================] - 20s 328us/step - loss: 1970.6769\n",
            "Epoch 5/100\n",
            "60000/60000 [==============================] - 20s 326us/step - loss: 1937.0308\n",
            "Epoch 6/100\n",
            "60000/60000 [==============================] - 19s 324us/step - loss: 1912.9536\n",
            "Epoch 7/100\n",
            "60000/60000 [==============================] - 19s 322us/step - loss: 1894.3563\n",
            "Epoch 8/100\n",
            "60000/60000 [==============================] - 19s 323us/step - loss: 1881.6548\n",
            "Epoch 9/100\n",
            "60000/60000 [==============================] - 19s 323us/step - loss: 1869.2607\n",
            "Epoch 10/100\n",
            "60000/60000 [==============================] - 20s 325us/step - loss: 1858.9900\n",
            "Epoch 11/100\n",
            "60000/60000 [==============================] - 19s 321us/step - loss: 1850.1034\n",
            "Epoch 12/100\n",
            "60000/60000 [==============================] - 19s 323us/step - loss: 1843.5559\n",
            "Epoch 13/100\n",
            "60000/60000 [==============================] - 19s 323us/step - loss: 1837.4948\n",
            "Epoch 14/100\n",
            "60000/60000 [==============================] - 19s 323us/step - loss: 1831.2107\n",
            "Epoch 15/100\n",
            "60000/60000 [==============================] - 20s 326us/step - loss: 1826.5234\n",
            "Epoch 16/100\n",
            "60000/60000 [==============================] - 19s 322us/step - loss: 1822.6051\n",
            "Epoch 17/100\n",
            "60000/60000 [==============================] - 19s 322us/step - loss: 1818.4178\n",
            "Epoch 18/100\n",
            "60000/60000 [==============================] - 19s 323us/step - loss: 1813.6253\n",
            "Epoch 19/100\n",
            "60000/60000 [==============================] - 19s 322us/step - loss: 1811.1028\n",
            "Epoch 20/100\n",
            "60000/60000 [==============================] - 19s 322us/step - loss: 1808.1783\n",
            "Epoch 21/100\n",
            "60000/60000 [==============================] - 19s 322us/step - loss: 1806.2042\n",
            "Epoch 22/100\n",
            "60000/60000 [==============================] - 20s 327us/step - loss: 1802.1049\n",
            "Epoch 23/100\n",
            "60000/60000 [==============================] - 19s 323us/step - loss: 1799.4444\n",
            "Epoch 24/100\n",
            "60000/60000 [==============================] - 20s 326us/step - loss: 1797.7019\n",
            "Epoch 25/100\n",
            "60000/60000 [==============================] - 19s 323us/step - loss: 1796.0784\n",
            "Epoch 26/100\n",
            "60000/60000 [==============================] - 20s 332us/step - loss: 1793.1159\n",
            "Epoch 27/100\n",
            "60000/60000 [==============================] - 20s 331us/step - loss: 1791.6545\n",
            "Epoch 28/100\n",
            "60000/60000 [==============================] - 20s 333us/step - loss: 1789.2398\n",
            "Epoch 29/100\n",
            "60000/60000 [==============================] - 20s 331us/step - loss: 1787.1747\n",
            "Epoch 30/100\n",
            "60000/60000 [==============================] - 20s 334us/step - loss: 1786.4072\n",
            "Epoch 31/100\n",
            "60000/60000 [==============================] - 20s 328us/step - loss: 1784.4103\n",
            "Epoch 32/100\n",
            "60000/60000 [==============================] - 19s 323us/step - loss: 1783.0144\n",
            "Epoch 33/100\n",
            "60000/60000 [==============================] - 19s 325us/step - loss: 1781.9572\n",
            "Epoch 34/100\n",
            "60000/60000 [==============================] - 19s 323us/step - loss: 1780.1904\n",
            "Epoch 35/100\n",
            "60000/60000 [==============================] - 19s 322us/step - loss: 1778.7761\n",
            "Epoch 36/100\n",
            "60000/60000 [==============================] - 19s 324us/step - loss: 1776.6458\n",
            "Epoch 37/100\n",
            "60000/60000 [==============================] - 19s 322us/step - loss: 1775.7095\n",
            "Epoch 38/100\n",
            "60000/60000 [==============================] - 19s 323us/step - loss: 1775.5498\n",
            "Epoch 39/100\n",
            "60000/60000 [==============================] - 19s 325us/step - loss: 1773.2465\n",
            "Epoch 40/100\n",
            "60000/60000 [==============================] - 19s 322us/step - loss: 1772.9640\n",
            "Epoch 41/100\n",
            "60000/60000 [==============================] - 20s 325us/step - loss: 1772.7154\n",
            "Epoch 42/100\n",
            "60000/60000 [==============================] - 19s 322us/step - loss: 1771.2768\n",
            "Epoch 43/100\n",
            "60000/60000 [==============================] - 19s 322us/step - loss: 1770.2324\n",
            "Epoch 44/100\n",
            "60000/60000 [==============================] - 19s 323us/step - loss: 1768.9111\n",
            "Epoch 45/100\n",
            "60000/60000 [==============================] - 20s 325us/step - loss: 1768.0936\n",
            "Epoch 46/100\n",
            "60000/60000 [==============================] - 20s 328us/step - loss: 1766.4599\n",
            "Epoch 47/100\n",
            "60000/60000 [==============================] - 19s 324us/step - loss: 1766.4203\n",
            "Epoch 48/100\n",
            "60000/60000 [==============================] - 20s 326us/step - loss: 1764.6450\n",
            "Epoch 49/100\n",
            "60000/60000 [==============================] - 19s 324us/step - loss: 1764.6232\n",
            "Epoch 50/100\n",
            "60000/60000 [==============================] - 20s 325us/step - loss: 1763.8443\n",
            "Epoch 51/100\n",
            "60000/60000 [==============================] - 20s 327us/step - loss: 1762.8401\n",
            "Epoch 52/100\n",
            "60000/60000 [==============================] - 20s 332us/step - loss: 1762.6466\n",
            "Epoch 53/100\n",
            "60000/60000 [==============================] - 20s 326us/step - loss: 1763.1821\n",
            "Epoch 54/100\n",
            "60000/60000 [==============================] - 19s 324us/step - loss: 1761.0346\n",
            "Epoch 55/100\n",
            "60000/60000 [==============================] - 19s 323us/step - loss: 1760.4886\n",
            "Epoch 56/100\n",
            "60000/60000 [==============================] - 19s 325us/step - loss: 1759.8169\n",
            "Epoch 57/100\n",
            "60000/60000 [==============================] - 20s 328us/step - loss: 1758.4059\n",
            "Epoch 58/100\n",
            "60000/60000 [==============================] - 20s 325us/step - loss: 1758.3954\n",
            "Epoch 59/100\n",
            "60000/60000 [==============================] - 19s 322us/step - loss: 1757.3704\n",
            "Epoch 60/100\n",
            "60000/60000 [==============================] - 19s 322us/step - loss: 1756.7874\n",
            "Epoch 61/100\n",
            "60000/60000 [==============================] - 19s 323us/step - loss: 1755.8597\n",
            "Epoch 62/100\n",
            "60000/60000 [==============================] - 20s 325us/step - loss: 1755.9382\n",
            "Epoch 63/100\n",
            "60000/60000 [==============================] - 19s 322us/step - loss: 1755.7641\n",
            "Epoch 64/100\n",
            "60000/60000 [==============================] - 19s 322us/step - loss: 1754.9219\n",
            "Epoch 65/100\n",
            "60000/60000 [==============================] - 19s 324us/step - loss: 1754.4076\n",
            "Epoch 66/100\n",
            "60000/60000 [==============================] - 19s 322us/step - loss: 1753.6092\n",
            "Epoch 67/100\n",
            "60000/60000 [==============================] - 19s 321us/step - loss: 1753.0799\n",
            "Epoch 68/100\n",
            "60000/60000 [==============================] - 19s 322us/step - loss: 1753.0784\n",
            "Epoch 69/100\n",
            "60000/60000 [==============================] - 19s 324us/step - loss: 1752.3041\n",
            "Epoch 70/100\n",
            "60000/60000 [==============================] - 20s 330us/step - loss: 1751.4113\n",
            "Epoch 71/100\n",
            "60000/60000 [==============================] - 20s 327us/step - loss: 1751.2883\n",
            "Epoch 72/100\n",
            "60000/60000 [==============================] - 19s 322us/step - loss: 1750.8375\n",
            "Epoch 73/100\n",
            "60000/60000 [==============================] - 20s 330us/step - loss: 1750.0209\n",
            "Epoch 74/100\n",
            "60000/60000 [==============================] - 20s 331us/step - loss: 1749.9761\n",
            "Epoch 75/100\n",
            "60000/60000 [==============================] - 20s 328us/step - loss: 1748.3604\n",
            "Epoch 76/100\n",
            "60000/60000 [==============================] - 19s 325us/step - loss: 1749.2714\n",
            "Epoch 77/100\n",
            "60000/60000 [==============================] - 20s 326us/step - loss: 1749.2984\n",
            "Epoch 78/100\n",
            "60000/60000 [==============================] - 20s 332us/step - loss: 1748.5347\n",
            "Epoch 79/100\n",
            "60000/60000 [==============================] - 19s 325us/step - loss: 1746.8456\n",
            "Epoch 80/100\n",
            "60000/60000 [==============================] - 20s 327us/step - loss: 1747.7812\n",
            "Epoch 81/100\n",
            "60000/60000 [==============================] - 19s 322us/step - loss: 1746.9795\n",
            "Epoch 82/100\n",
            "60000/60000 [==============================] - 19s 323us/step - loss: 1746.6295\n",
            "Epoch 83/100\n",
            "60000/60000 [==============================] - 20s 325us/step - loss: 1746.2892\n",
            "Epoch 84/100\n",
            "60000/60000 [==============================] - 19s 322us/step - loss: 1746.6942\n",
            "Epoch 85/100\n",
            "60000/60000 [==============================] - 19s 323us/step - loss: 1745.4054\n",
            "Epoch 86/100\n",
            "60000/60000 [==============================] - 19s 322us/step - loss: 1745.1951\n",
            "Epoch 87/100\n",
            "60000/60000 [==============================] - 19s 322us/step - loss: 1745.4517\n",
            "Epoch 88/100\n",
            "60000/60000 [==============================] - 20s 327us/step - loss: 1743.6726\n",
            "Epoch 89/100\n",
            "60000/60000 [==============================] - 19s 325us/step - loss: 1744.5219\n",
            "Epoch 90/100\n",
            "60000/60000 [==============================] - 19s 322us/step - loss: 1743.4532\n",
            "Epoch 91/100\n",
            "60000/60000 [==============================] - 19s 322us/step - loss: 1744.2326\n",
            "Epoch 92/100\n",
            "60000/60000 [==============================] - 19s 323us/step - loss: 1743.0185\n",
            "Epoch 93/100\n",
            "60000/60000 [==============================] - 19s 322us/step - loss: 1742.9525\n",
            "Epoch 94/100\n",
            "60000/60000 [==============================] - 20s 327us/step - loss: 1742.2511\n",
            "Epoch 95/100\n",
            "60000/60000 [==============================] - 19s 323us/step - loss: 1742.2344\n",
            "Epoch 96/100\n",
            "60000/60000 [==============================] - 19s 322us/step - loss: 1741.7366\n",
            "Epoch 97/100\n",
            "60000/60000 [==============================] - 19s 322us/step - loss: 1741.0900\n",
            "Epoch 98/100\n",
            "60000/60000 [==============================] - 19s 322us/step - loss: 1740.4850\n",
            "Epoch 99/100\n",
            "60000/60000 [==============================] - 19s 323us/step - loss: 1741.3392\n",
            "Epoch 100/100\n",
            "60000/60000 [==============================] - 19s 322us/step - loss: 1740.0226\n"
          ],
          "name": "stdout"
        },
        {
          "output_type": "execute_result",
          "data": {
            "text/plain": [
              "<keras.callbacks.History at 0x7fe6f6cfc7f0>"
            ]
          },
          "metadata": {
            "tags": []
          },
          "execution_count": 13
        }
      ]
    },
    {
      "metadata": {
        "id": "uVOtqomPQ4Iy",
        "colab_type": "text"
      },
      "cell_type": "markdown",
      "source": [
        "Reconstruction digits sample."
      ]
    },
    {
      "metadata": {
        "id": "J-fsggeuCXYa",
        "colab_type": "code",
        "colab": {
          "base_uri": "https://localhost:8080/",
          "height": 91
        },
        "outputId": "81201b57-2e4b-405d-92cc-1f88a81134d1"
      },
      "cell_type": "code",
      "source": [
        "cvae_recons = cvae.predict([x_train,y_train],batch_size=batch_size)\n",
        "Plot_Img(20,28,x_train,10,10)\n",
        "Plot_Img(20,28,cvae_recons,10,10)\n",
        "plt.show()"
      ],
      "execution_count": 26,
      "outputs": [
        {
          "output_type": "display_data",
          "data": {
            "image/png": "[encoded data removed]",
            "text/plain": [
              "<Figure size 720x720 with 20 Axes>"
            ]
          },
          "metadata": {
            "tags": []
          }
        },
        {
          "output_type": "display_data",
          "data": {
            "image/png": "[encoded data removed]",
            "text/plain": [
              "<Figure size 720x720 with 20 Axes>"
            ]
          },
          "metadata": {
            "tags": []
          }
        }
      ]
    },
    {
      "metadata": {
        "id": "P-s5qOgjQ9Ue",
        "colab_type": "text"
      },
      "cell_type": "markdown",
      "source": [
        "Generate the digits by controlling the input one-hot vector to produce the specific digit we want."
      ]
    },
    {
      "metadata": {
        "id": "nv12AXzxD58t",
        "colab_type": "code",
        "colab": {
          "base_uri": "https://localhost:8080/",
          "height": 627
        },
        "outputId": "20783dd0-f04d-450d-ff47-110a723a083c"
      },
      "cell_type": "code",
      "source": [
        "for i in range(10):\n",
        "    z_sample = np.random.normal(size=(batch_size,h_dim,))\n",
        "    z_sample = tf.convert_to_tensor(z_sample, dtype=tf.float32)\n",
        "    cond_sample = np.zeros(shape=(batch_size,10))\n",
        "    cond_sample[:,i] = 1\n",
        "    cond_sample = tf.convert_to_tensor(cond_sample, dtype=tf.float32)\n",
        "    Plot_Img(10,28,cvae_decoder.predict([z_sample,cond_sample],steps=1),10,10)\n",
        "plt.show()"
      ],
      "execution_count": 18,
      "outputs": [
        {
          "output_type": "display_data",
          "data": {
            "image/png": "[encoded data removed]",
            "text/plain": [
              "<Figure size 720x720 with 10 Axes>"
            ]
          },
          "metadata": {
            "tags": []
          }
        },
        {
          "output_type": "display_data",
          "data": {
            "image/png": "[encoded data removed]",
            "text/plain": [
              "<Figure size 720x720 with 10 Axes>"
            ]
          },
          "metadata": {
            "tags": []
          }
        },
        {
          "output_type": "display_data",
          "data": {
            "image/png": "[encoded data removed]",
            "text/plain": [
              "<Figure size 720x720 with 10 Axes>"
            ]
          },
          "metadata": {
            "tags": []
          }
        },
        {
          "output_type": "display_data",
          "data": {
            "image/png": "[encoded data removed]",
            "text/plain": [
              "<Figure size 720x720 with 10 Axes>"
            ]
          },
          "metadata": {
            "tags": []
          }
        },
        {
          "output_type": "display_data",
          "data": {
            "image/png": "[encoded data removed]",
            "text/plain": [
              "<Figure size 720x720 with 10 Axes>"
            ]
          },
          "metadata": {
            "tags": []
          }
        },
        {
          "output_type": "display_data",
          "data": {
            "image/png": "[encoded data removed]",
            "text/plain": [
              "<Figure size 720x720 with 10 Axes>"
            ]
          },
          "metadata": {
            "tags": []
          }
        },
        {
          "output_type": "display_data",
          "data": {
            "image/png": "[encoded data removed]",
            "text/plain": [
              "<Figure size 720x720 with 10 Axes>"
            ]
          },
          "metadata": {
            "tags": []
          }
        },
        {
          "output_type": "display_data",
          "data": {
            "image/png": "[encoded data removed]",
            "text/plain": [
              "<Figure size 720x720 with 10 Axes>"
            ]
          },
          "metadata": {
            "tags": []
          }
        },
        {
          "output_type": "display_data",
          "data": {
            "image/png": "[encoded data removed]",
            "text/plain": [
              "<Figure size 720x720 with 10 Axes>"
            ]
          },
          "metadata": {
            "tags": []
          }
        },
        {
          "output_type": "display_data",
          "data": {
            "image/png": "[encoded data removed]",
            "text/plain": [
              "<Figure size 720x720 with 10 Axes>"
            ]
          },
          "metadata": {
            "tags": []
          }
        }
      ]
    }
  ]
}