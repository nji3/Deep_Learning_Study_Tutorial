{
  "nbformat": 4,
  "nbformat_minor": 0,
  "metadata": {
    "colab": {
      "name": "CVAE_MNIST_Impainting.ipynb",
      "version": "0.3.2",
      "provenance": [],
      "collapsed_sections": []
    },
    "kernelspec": {
      "name": "python3",
      "display_name": "Python 3"
    },
    "accelerator": "GPU"
  },
  "cells": [
    {
      "metadata": {
        "id": "KDmHG1fG9cXk",
        "colab_type": "text"
      },
      "cell_type": "markdown",
      "source": [
        "# Conditional Variational AutoEncoder (CVAE) on MNIST data for Image Impainting"
      ]
    },
    {
      "metadata": {
        "id": "zMVDWcP5l_yY",
        "colab_type": "code",
        "outputId": "bc4f954c-2414-493c-91fb-eeb8b8c44943",
        "colab": {
          "base_uri": "https://localhost:8080/",
          "height": 34
        }
      },
      "cell_type": "code",
      "source": [
        "import numpy as np\n",
        "import matplotlib.pyplot as plt\n",
        "import matplotlib.image as mpimg\n",
        "import glob\n",
        "import tensorflow as tf\n",
        "import math\n",
        "from sklearn import model_selection\n",
        "\n",
        "from keras import layers\n",
        "from keras import models\n",
        "from keras import Model\n",
        "from keras.datasets import mnist\n",
        "from keras import backend as K\n",
        "from keras import metrics\n",
        "from keras import optimizers\n",
        "\n",
        "K.tensorflow_backend._get_available_gpus()\n",
        "\n",
        "# The Function used to plot the original image and the predicted image\n",
        "def Plot_Img(n,k,images,fig_w,fig_h):\n",
        "    # n is how many digits we will display//\n",
        "    plt.figure(figsize=(fig_w, fig_h))\n",
        "    for i in range(n):\n",
        "        # display images\n",
        "        ax = plt.subplot(1, n, i + 1)\n",
        "        plt.imshow(images[i].reshape(k, k))\n",
        "        plt.gray()\n",
        "        ax.get_xaxis().set_visible(False)\n",
        "        ax.get_yaxis().set_visible(False)\n",
        "    plt.show()\n",
        "    \n",
        "def Plot_Img2(n,images,fig_w,fig_h):\n",
        "    # n is how many digits we will display//\n",
        "    plt.figure(figsize=(fig_w, fig_h))\n",
        "    for i in range(n):\n",
        "        # display images\n",
        "        ax = plt.subplot(1, n, i + 1)\n",
        "        plt.imshow(images[i])\n",
        "        plt.gray()\n",
        "        ax.get_xaxis().set_visible(False)\n",
        "        ax.get_yaxis().set_visible(False)\n",
        "    plt.show()\n",
        "    \n",
        "# The Function used to remove the middle square of the image\n",
        "def Img_incomp(imgs,start=10,end=20):\n",
        "    n = imgs.shape[0]\n",
        "    for i in range(n):\n",
        "        imgs[i][start:end,start:end] = 0\n",
        "    return imgs"
      ],
      "execution_count": 0,
      "outputs": [
        {
          "output_type": "stream",
          "text": [
            "Using TensorFlow backend.\n"
          ],
          "name": "stderr"
        }
      ]
    },
    {
      "metadata": {
        "id": "TTMH4Q2C9kwg",
        "colab_type": "text"
      },
      "cell_type": "markdown",
      "source": [
        "Data loading and normalization."
      ]
    },
    {
      "metadata": {
        "id": "GjYLGjWQmHbW",
        "colab_type": "code",
        "colab": {}
      },
      "cell_type": "code",
      "source": [
        "(x_tra, y_tra), (x_te, y_te) = mnist.load_data()\n",
        "\n",
        "# Normalize the pixels to 0 and 1 range\n",
        "x_tra = x_tra.astype('float32') / 255.\n",
        "x_te = x_te.astype('float32') / 255.\n",
        "\n",
        "(x_train, y_train), (x_test, y_test) = mnist.load_data()\n",
        "\n",
        "# Normalize the pixels to 0 and 1 range\n",
        "x_train = x_train.astype('float32') / 255.\n",
        "x_test = x_test.astype('float32') / 255."
      ],
      "execution_count": 0,
      "outputs": []
    },
    {
      "metadata": {
        "id": "iYvqvkpN9lsq",
        "colab_type": "text"
      },
      "cell_type": "markdown",
      "source": [
        "Data preparation that remove the inner 10x10 square from the original images. What we have left is a flawed image. Our task is to use CVAE to fill this missing part."
      ]
    },
    {
      "metadata": {
        "id": "u8nGZWoOmNr1",
        "colab_type": "code",
        "outputId": "f5415969-c4b0-4811-d0aa-4c913d9fcd24",
        "colab": {
          "base_uri": "https://localhost:8080/",
          "height": 139
        }
      },
      "cell_type": "code",
      "source": [
        "# Modfied training and testing imgs\n",
        "x_train = Img_incomp(x_train)\n",
        "x_test = Img_incomp(x_test)\n",
        "\n",
        "# Plot some examples\n",
        "Plot_Img2(10,x_tra,10,10)\n",
        "Plot_Img2(10,x_train,10,10)"
      ],
      "execution_count": 0,
      "outputs": [
        {
          "output_type": "display_data",
          "data": {
            "image/png": "[encoded data removed]",
            "text/plain": [
              "<Figure size 720x720 with 10 Axes>"
            ]
          },
          "metadata": {
            "tags": []
          }
        },
        {
          "output_type": "display_data",
          "data": {
            "image/png": "[encoded data removed]",
            "text/plain": [
              "<Figure size 720x720 with 10 Axes>"
            ]
          },
          "metadata": {
            "tags": []
          }
        }
      ]
    },
    {
      "metadata": {
        "id": "W0keboGymoVS",
        "colab_type": "code",
        "outputId": "b757724a-6546-4abb-f642-1323722b3ca0",
        "colab": {
          "base_uri": "https://localhost:8080/",
          "height": 85
        }
      },
      "cell_type": "code",
      "source": [
        "# Reshape each image matrix to a long vector\n",
        "x_train = np.reshape(x_train, (len(x_train), 28*28))  \n",
        "x_test = np.reshape(x_test, (len(x_test), 28*28))  \n",
        "print (x_train.shape)\n",
        "print (x_test.shape)\n",
        "\n",
        "# Conditional data matrices\n",
        "cond_train = np.ones((x_train.shape[0],28,28))\n",
        "cond_test = np.ones((x_test.shape[0],28,28))\n",
        "cond_train = Img_incomp(cond_train)\n",
        "cond_test = Img_incomp(cond_test)\n",
        "cond_train = np.reshape(cond_train, (len(cond_train), 28*28))  \n",
        "cond_test = np.reshape(cond_test, (len(cond_test), 28*28)) \n",
        "print (cond_train.shape)\n",
        "print (cond_test.shape)"
      ],
      "execution_count": 0,
      "outputs": [
        {
          "output_type": "stream",
          "text": [
            "(60000, 784)\n",
            "(10000, 784)\n",
            "(60000, 784)\n",
            "(10000, 784)\n"
          ],
          "name": "stdout"
        }
      ]
    },
    {
      "metadata": {
        "id": "mYpLMyAs95sa",
        "colab_type": "text"
      },
      "cell_type": "markdown",
      "source": [
        "Parameters, representation trick function and the loss function."
      ]
    },
    {
      "metadata": {
        "id": "NVzAmhFkoISO",
        "colab_type": "code",
        "colab": {}
      },
      "cell_type": "code",
      "source": [
        "batch_size = 20\n",
        "input_dim = 28*28\n",
        "layer_dim = 512\n",
        "h_dim = 20\n",
        "cond_dim = cond_train.shape[1]\n",
        "\n",
        "def csampling(args):\n",
        "    z_mean, z_log_sigma = args\n",
        "    epsilon = K.random_normal(shape=(batch_size,h_dim),\n",
        "                              mean=0., stddev=1.)\n",
        "    return z_mean + K.exp(z_log_sigma) * epsilon\n",
        "\n",
        "def cvae_loss(x, decode_z):\n",
        "    x = K.flatten(x)\n",
        "    decode_z = K.flatten(decode_z)\n",
        "    xent_loss = K.sum(K.binary_crossentropy(x, decode_z), axis=-1)\n",
        "    kl_loss = - 0.5 * K.sum(1 + cvae_log_var - K.square(cvae_mu) - K.exp(cvae_log_var), axis=-1)\n",
        "    return xent_loss + kl_loss"
      ],
      "execution_count": 0,
      "outputs": []
    },
    {
      "metadata": {
        "id": "VKBjyYEf96XR",
        "colab_type": "text"
      },
      "cell_type": "markdown",
      "source": [
        "Main structure of the CVAE model."
      ]
    },
    {
      "metadata": {
        "id": "j-36V3TCoKR5",
        "colab_type": "code",
        "outputId": "0de3f389-1883-488f-b6ea-9997bac086c3",
        "colab": {
          "base_uri": "https://localhost:8080/",
          "height": 904
        }
      },
      "cell_type": "code",
      "source": [
        "# Construct the Fully-Connected CVAE model\n",
        "X = layers.Input(batch_shape=(batch_size,input_dim))\n",
        "cond = layers.Input(batch_shape=(batch_size,cond_dim))\n",
        "cvae_Input = layers.concatenate([X,cond], axis=-1)\n",
        "cvae_f1 = layers.Dense(layer_dim,activation='relu')(cvae_Input)\n",
        "cvae_mu = layers.Dense(h_dim,activation='relu')(cvae_f1)\n",
        "cvae_log_var = layers.Dense(h_dim,activation='relu')(cvae_f1)\n",
        "\n",
        "# Imputed latent values\n",
        "cvae_z = layers.Lambda(csampling, output_shape=(h_dim,))([cvae_mu, cvae_log_var])\n",
        "cvae_z_cond = layers.concatenate([cvae_z,cond], axis=-1)\n",
        "\n",
        "# CVAE decoder layers\n",
        "cvae_decoder_f1 = layers.Dense(layer_dim,activation='relu')\n",
        "cvae_decoder_out = layers.Dense(input_dim,activation='sigmoid')\n",
        "\n",
        "# CVAE model\n",
        "cvae_decoder_1 = cvae_decoder_f1(cvae_z_cond)\n",
        "cvae_decoded = cvae_decoder_out(cvae_decoder_1)\n",
        "cvae = Model([X,cond],cvae_decoded)\n",
        "cvae.summary()\n",
        "\n",
        "# The decoder model\n",
        "cvae_z_input1 = layers.Input(batch_shape=(batch_size,h_dim))\n",
        "cvae_z_input2 = layers.Input(batch_shape=(batch_size,cond_dim))\n",
        "cx = layers.concatenate([cvae_z_input1,cvae_z_input2], axis=-1)\n",
        "cx = cvae_decoder_f1(cx)\n",
        "cx = cvae_decoder_out(cx)\n",
        "cvae_decoder = Model([cvae_z_input1,cvae_z_input2],cx)\n",
        "cvae_decoder.summary()"
      ],
      "execution_count": 0,
      "outputs": [
        {
          "output_type": "stream",
          "text": [
            "WARNING:tensorflow:From /usr/local/lib/python3.6/dist-packages/tensorflow/python/framework/op_def_library.py:263: colocate_with (from tensorflow.python.framework.ops) is deprecated and will be removed in a future version.\n",
            "Instructions for updating:\n",
            "Colocations handled automatically by placer.\n",
            "__________________________________________________________________________________________________\n",
            "Layer (type)                    Output Shape         Param #     Connected to                     \n",
            "==================================================================================================\n",
            "input_1 (InputLayer)            (20, 784)            0                                            \n",
            "__________________________________________________________________________________________________\n",
            "input_2 (InputLayer)            (20, 784)            0                                            \n",
            "__________________________________________________________________________________________________\n",
            "concatenate_1 (Concatenate)     (20, 1568)           0           input_1[0][0]                    \n",
            "                                                                 input_2[0][0]                    \n",
            "__________________________________________________________________________________________________\n",
            "dense_1 (Dense)                 (20, 512)            803328      concatenate_1[0][0]              \n",
            "__________________________________________________________________________________________________\n",
            "dense_2 (Dense)                 (20, 20)             10260       dense_1[0][0]                    \n",
            "__________________________________________________________________________________________________\n",
            "dense_3 (Dense)                 (20, 20)             10260       dense_1[0][0]                    \n",
            "__________________________________________________________________________________________________\n",
            "lambda_1 (Lambda)               (20, 20)             0           dense_2[0][0]                    \n",
            "                                                                 dense_3[0][0]                    \n",
            "__________________________________________________________________________________________________\n",
            "concatenate_2 (Concatenate)     (20, 804)            0           lambda_1[0][0]                   \n",
            "                                                                 input_2[0][0]                    \n",
            "__________________________________________________________________________________________________\n",
            "dense_4 (Dense)                 (20, 512)            412160      concatenate_2[0][0]              \n",
            "__________________________________________________________________________________________________\n",
            "dense_5 (Dense)                 (20, 784)            402192      dense_4[0][0]                    \n",
            "==================================================================================================\n",
            "Total params: 1,638,200\n",
            "Trainable params: 1,638,200\n",
            "Non-trainable params: 0\n",
            "__________________________________________________________________________________________________\n",
            "__________________________________________________________________________________________________\n",
            "Layer (type)                    Output Shape         Param #     Connected to                     \n",
            "==================================================================================================\n",
            "input_3 (InputLayer)            (20, 20)             0                                            \n",
            "__________________________________________________________________________________________________\n",
            "input_4 (InputLayer)            (20, 784)            0                                            \n",
            "__________________________________________________________________________________________________\n",
            "concatenate_3 (Concatenate)     (20, 804)            0           input_3[0][0]                    \n",
            "                                                                 input_4[0][0]                    \n",
            "__________________________________________________________________________________________________\n",
            "dense_4 (Dense)                 (20, 512)            412160      concatenate_3[0][0]              \n",
            "__________________________________________________________________________________________________\n",
            "dense_5 (Dense)                 (20, 784)            402192      dense_4[1][0]                    \n",
            "==================================================================================================\n",
            "Total params: 814,352\n",
            "Trainable params: 814,352\n",
            "Non-trainable params: 0\n",
            "__________________________________________________________________________________________________\n"
          ],
          "name": "stdout"
        }
      ]
    },
    {
      "metadata": {
        "id": "YOSEqbJH-Blj",
        "colab_type": "text"
      },
      "cell_type": "markdown",
      "source": [
        "Train the CVAE model."
      ]
    },
    {
      "metadata": {
        "id": "Es8JzfdooMrG",
        "colab_type": "code",
        "outputId": "8d885b86-39e1-4149-ba7b-da941c5b017f",
        "colab": {
          "base_uri": "https://localhost:8080/",
          "height": 1805
        }
      },
      "cell_type": "code",
      "source": [
        "cvae_opt = optimizers.Adam(0.0005,0.5)\n",
        "cvae.compile(optimizer=cvae_opt, loss=cvae_loss)\n",
        "cvae.fit([x_train,cond_train],x_tra,epochs=50,batch_size=batch_size)"
      ],
      "execution_count": 0,
      "outputs": [
        {
          "output_type": "stream",
          "text": [
            "WARNING:tensorflow:From /usr/local/lib/python3.6/dist-packages/tensorflow/python/ops/math_ops.py:3066: to_int32 (from tensorflow.python.ops.math_ops) is deprecated and will be removed in a future version.\n",
            "Instructions for updating:\n",
            "Use tf.cast instead.\n",
            "Epoch 1/50\n",
            "60000/60000 [==============================] - 12s 196us/step - loss: 2926.0892\n",
            "Epoch 2/50\n",
            "60000/60000 [==============================] - 12s 204us/step - loss: 2478.2001\n",
            "Epoch 3/50\n",
            "60000/60000 [==============================] - 11s 186us/step - loss: 2375.7562\n",
            "Epoch 4/50\n",
            "60000/60000 [==============================] - 11s 186us/step - loss: 2324.7528\n",
            "Epoch 5/50\n",
            "60000/60000 [==============================] - 11s 186us/step - loss: 2287.9557\n",
            "Epoch 6/50\n",
            "60000/60000 [==============================] - 11s 185us/step - loss: 2262.3614\n",
            "Epoch 7/50\n",
            "60000/60000 [==============================] - 11s 185us/step - loss: 2244.0489\n",
            "Epoch 8/50\n",
            "60000/60000 [==============================] - 11s 185us/step - loss: 2229.4655\n",
            "Epoch 9/50\n",
            "60000/60000 [==============================] - 12s 204us/step - loss: 2218.4720\n",
            "Epoch 10/50\n",
            "60000/60000 [==============================] - 11s 185us/step - loss: 2209.7892\n",
            "Epoch 11/50\n",
            "60000/60000 [==============================] - 11s 185us/step - loss: 2202.2140\n",
            "Epoch 12/50\n",
            "60000/60000 [==============================] - 11s 185us/step - loss: 2195.3634\n",
            "Epoch 13/50\n",
            "60000/60000 [==============================] - 11s 185us/step - loss: 2189.2439\n",
            "Epoch 14/50\n",
            "60000/60000 [==============================] - 11s 186us/step - loss: 2184.3103\n",
            "Epoch 15/50\n",
            "60000/60000 [==============================] - 11s 185us/step - loss: 2179.6099\n",
            "Epoch 16/50\n",
            "60000/60000 [==============================] - 12s 201us/step - loss: 2177.2528\n",
            "Epoch 17/50\n",
            "60000/60000 [==============================] - 11s 189us/step - loss: 2173.1498\n",
            "Epoch 18/50\n",
            "60000/60000 [==============================] - 11s 184us/step - loss: 2170.3723\n",
            "Epoch 19/50\n",
            "60000/60000 [==============================] - 11s 184us/step - loss: 2165.6439\n",
            "Epoch 20/50\n",
            "60000/60000 [==============================] - 13s 210us/step - loss: 2165.6600\n",
            "Epoch 21/50\n",
            "60000/60000 [==============================] - 11s 184us/step - loss: 2161.8061\n",
            "Epoch 22/50\n",
            "60000/60000 [==============================] - 11s 184us/step - loss: 2158.9645\n",
            "Epoch 23/50\n",
            "60000/60000 [==============================] - 12s 202us/step - loss: 2158.0314\n",
            "Epoch 24/50\n",
            "60000/60000 [==============================] - 11s 187us/step - loss: 2154.3601\n",
            "Epoch 25/50\n",
            "60000/60000 [==============================] - 11s 184us/step - loss: 2153.2316\n",
            "Epoch 26/50\n",
            "60000/60000 [==============================] - 11s 184us/step - loss: 2151.3117\n",
            "Epoch 27/50\n",
            "60000/60000 [==============================] - 11s 185us/step - loss: 2149.4346\n",
            "Epoch 28/50\n",
            "60000/60000 [==============================] - 11s 185us/step - loss: 2148.3899\n",
            "Epoch 29/50\n",
            "60000/60000 [==============================] - 11s 185us/step - loss: 2145.5228\n",
            "Epoch 30/50\n",
            "60000/60000 [==============================] - 12s 196us/step - loss: 2144.6567\n",
            "Epoch 31/50\n",
            "60000/60000 [==============================] - 12s 192us/step - loss: 2143.2593\n",
            "Epoch 32/50\n",
            "60000/60000 [==============================] - 11s 184us/step - loss: 2142.3264\n",
            "Epoch 33/50\n",
            "60000/60000 [==============================] - 11s 185us/step - loss: 2141.7882\n",
            "Epoch 34/50\n",
            "60000/60000 [==============================] - 11s 184us/step - loss: 2140.1537\n",
            "Epoch 35/50\n",
            "60000/60000 [==============================] - 11s 184us/step - loss: 2138.1899\n",
            "Epoch 36/50\n",
            "60000/60000 [==============================] - 11s 185us/step - loss: 2136.9671\n",
            "Epoch 37/50\n",
            "60000/60000 [==============================] - 12s 192us/step - loss: 2135.5764\n",
            "Epoch 38/50\n",
            "60000/60000 [==============================] - 12s 197us/step - loss: 2135.7350\n",
            "Epoch 39/50\n",
            "60000/60000 [==============================] - 11s 184us/step - loss: 2135.3935\n",
            "Epoch 40/50\n",
            "60000/60000 [==============================] - 11s 184us/step - loss: 2134.2128\n",
            "Epoch 41/50\n",
            "60000/60000 [==============================] - 11s 184us/step - loss: 2132.6138\n",
            "Epoch 42/50\n",
            "60000/60000 [==============================] - 11s 184us/step - loss: 2131.4066\n",
            "Epoch 43/50\n",
            "60000/60000 [==============================] - 11s 184us/step - loss: 2131.4733\n",
            "Epoch 44/50\n",
            "60000/60000 [==============================] - 11s 187us/step - loss: 2129.6913\n",
            "Epoch 45/50\n",
            "60000/60000 [==============================] - 12s 200us/step - loss: 2129.0141\n",
            "Epoch 46/50\n",
            "60000/60000 [==============================] - 11s 184us/step - loss: 2128.6973\n",
            "Epoch 47/50\n",
            "60000/60000 [==============================] - 12s 200us/step - loss: 2128.0367\n",
            "Epoch 48/50\n",
            "60000/60000 [==============================] - 12s 194us/step - loss: 2126.4090\n",
            "Epoch 49/50\n",
            "60000/60000 [==============================] - 11s 185us/step - loss: 2127.4396\n",
            "Epoch 50/50\n",
            "60000/60000 [==============================] - 12s 195us/step - loss: 2126.5478\n"
          ],
          "name": "stdout"
        },
        {
          "output_type": "execute_result",
          "data": {
            "text/plain": [
              "<keras.callbacks.History at 0x7fb6f547fe10>"
            ]
          },
          "metadata": {
            "tags": []
          },
          "execution_count": 7
        }
      ]
    },
    {
      "metadata": {
        "id": "H9FIQ2og-EXE",
        "colab_type": "text"
      },
      "cell_type": "markdown",
      "source": [
        "Reconstruction digits sample."
      ]
    },
    {
      "metadata": {
        "id": "DY6FzeSZo2Bs",
        "colab_type": "code",
        "outputId": "938114b1-6cc6-4c67-f4aa-16853506f02c",
        "colab": {
          "base_uri": "https://localhost:8080/",
          "height": 128
        }
      },
      "cell_type": "code",
      "source": [
        "cvae_recons = cvae.predict([x_train,cond_train],batch_size=batch_size)\n",
        "Plot_Img(20,28,x_train,10,10)\n",
        "Plot_Img(20,28,cvae_recons,10,10)\n",
        "Plot_Img(20,28,x_tra,10,10)\n",
        "plt.show()"
      ],
      "execution_count": 0,
      "outputs": [
        {
          "output_type": "display_data",
          "data": {
            "image/png": "[encoded data removed]",
            "text/plain": [
              "<Figure size 720x720 with 20 Axes>"
            ]
          },
          "metadata": {
            "tags": []
          }
        },
        {
          "output_type": "display_data",
          "data": {
            "image/png": "[encoded data removed]",
            "text/plain": [
              "<Figure size 720x720 with 20 Axes>"
            ]
          },
          "metadata": {
            "tags": []
          }
        },
        {
          "output_type": "display_data",
          "data": {
            "image/png": "[encoded data removed]",
            "text/plain": [
              "<Figure size 720x720 with 20 Axes>"
            ]
          },
          "metadata": {
            "tags": []
          }
        }
      ]
    },
    {
      "metadata": {
        "id": "1bpysNRl-GQb",
        "colab_type": "text"
      },
      "cell_type": "markdown",
      "source": [
        "Test image set reconstruction."
      ]
    },
    {
      "metadata": {
        "id": "MSgsMFRX1m6D",
        "colab_type": "code",
        "outputId": "6fdc4fa5-9b19-4d47-ccf7-3dfede1484a2",
        "colab": {
          "base_uri": "https://localhost:8080/",
          "height": 128
        }
      },
      "cell_type": "code",
      "source": [
        "cvae_recons_test = cvae.predict([x_test,cond_test],batch_size=batch_size)\n",
        "Plot_Img(20,28,x_test,10,10)\n",
        "Plot_Img(20,28,cvae_recons_test,10,10)\n",
        "Plot_Img(20,28,x_te,10,10)\n",
        "plt.show()"
      ],
      "execution_count": 0,
      "outputs": [
        {
          "output_type": "display_data",
          "data": {
            "image/png": "[encoded data removed]",
            "text/plain": [
              "<Figure size 720x720 with 20 Axes>"
            ]
          },
          "metadata": {
            "tags": []
          }
        },
        {
          "output_type": "display_data",
          "data": {
            "image/png": "[encoded data removed]",
            "text/plain": [
              "<Figure size 720x720 with 20 Axes>"
            ]
          },
          "metadata": {
            "tags": []
          }
        },
        {
          "output_type": "display_data",
          "data": {
            "image/png": "[encoded data removed]",
            "text/plain": [
              "<Figure size 720x720 with 20 Axes>"
            ]
          },
          "metadata": {
            "tags": []
          }
        }
      ]
    }
  ]
}